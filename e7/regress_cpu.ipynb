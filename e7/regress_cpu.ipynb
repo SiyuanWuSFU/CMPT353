{
 "cells": [
  {
   "cell_type": "code",
   "execution_count": 197,
   "metadata": {},
   "outputs": [],
   "source": [
    "import sys\n",
    "import pandas as pd\n",
    "import matplotlib.pyplot as plt\n",
    "import numpy as np\n",
    "from pykalman import KalmanFilter\n",
    "from sklearn.linear_model import LinearRegression"
   ]
  },
  {
   "cell_type": "code",
   "execution_count": 198,
   "metadata": {},
   "outputs": [],
   "source": [
    "X_columns = ['temperature', 'cpu_percent', 'fan_rpm', 'sys_load_1', 'cpu_freq']\n",
    "y_column = 'next_temp'\n"
   ]
  },
  {
   "cell_type": "code",
   "execution_count": 199,
   "metadata": {},
   "outputs": [],
   "source": [
    "def get_data(filename):\n",
    "    \"\"\"\n",
    "    Read the given CSV file. Returns sysinfo DataFrame with target (next temperature) column created.\n",
    "    \"\"\"\n",
    "    sysinfo = pd.read_csv(filename, parse_dates=['timestamp'])\n",
    "    \n",
    "    # TODO: add the column that we want to predict: the temperatures from the *next* time step.\n",
    "    sysinfo[y_column] = sysinfo['temperature'].shift(periods = -1) # should be the temperature value from the next row\n",
    "    sysinfo = sysinfo.dropna()\n",
    "    #sysinfo[y_column] = sysinfo[y_column].fillna('')\n",
    "    #sysinfo = sysinfo[sysinfo[y_column].notnull()] # the last row should have y_column null: no next temp known\n",
    "    #sysinfo.next_temp[21695] = \"null\"\n",
    "\n",
    "    return sysinfo\n"
   ]
  },
  {
   "cell_type": "code",
   "execution_count": 200,
   "metadata": {},
   "outputs": [
    {
     "name": "stdout",
     "output_type": "stream",
     "text": [
      "                       timestamp  temperature  sys_load_1  cpu_percent  \\\n",
      "0     2020-05-20 12:02:49.850707    32.000000        0.58         2.86   \n",
      "1     2020-05-20 12:02:59.855392    31.750000        0.57         2.68   \n",
      "2     2020-05-20 12:03:09.859261    32.166667        0.48         3.24   \n",
      "3     2020-05-20 12:03:19.863313    31.833333        0.49         3.52   \n",
      "4     2020-05-20 12:03:29.868141    32.000000        0.64         2.43   \n",
      "...                          ...          ...         ...          ...   \n",
      "21691 2020-05-23 00:19:44.901521    30.333333        1.11         4.73   \n",
      "21692 2020-05-23 00:19:54.906179    30.500000        1.02         3.43   \n",
      "21693 2020-05-23 00:20:04.910416    30.333333        0.86         5.48   \n",
      "21694 2020-05-23 00:20:14.914973    30.166667        0.88         3.68   \n",
      "21695 2020-05-23 00:20:24.919573    30.500000        1.06         3.96   \n",
      "\n",
      "          cpu_freq  fan_rpm  next_temp  \n",
      "0      1474.153167      796  31.750000  \n",
      "1      1579.055250      805  32.166667  \n",
      "2      1500.348583      810  31.833333  \n",
      "3      1230.249750      788  32.000000  \n",
      "4      1766.959333      805  31.833333  \n",
      "...            ...      ...        ...  \n",
      "21691   800.048500      740  30.500000  \n",
      "21692  1345.581333      745  30.333333  \n",
      "21693  1108.595417      846  30.166667  \n",
      "21694  1182.734083      745  30.500000  \n",
      "21695  1386.947333      770  30.500000  \n",
      "\n",
      "[21696 rows x 7 columns]\n"
     ]
    }
   ],
   "source": [
    "train_data = get_data(\"sysinfo-train.csv\")\n",
    "print(train_data)"
   ]
  },
  {
   "cell_type": "code",
   "execution_count": 217,
   "metadata": {},
   "outputs": [],
   "source": [
    "def get_trained_coefficients(X_train, y_train):\n",
    "    \"\"\"\n",
    "    Create and train a model based on the training_data_file data.\n",
    "\n",
    "    Return the model, and the list of coefficients for the 'X_columns' variables in the regression.\n",
    "    \"\"\"\n",
    "\n",
    "    temp = X_train['temperature'].tolist()\n",
    "    sys_load_1 = X_train['sys_load_1'].tolist()\n",
    "    cpu_percent = X_train['cpu_percent'].tolist()\n",
    "    cpu_fre = X_train['cpu_freq'].tolist()\n",
    "    fan_rpm = X_train['fan_rpm'].tolist()\n",
    "    y = y_train.tolist()\n",
    "\n",
    "    X = np.stack([temp,sys_load_1,cpu_percent,cpu_fre,fan_rpm],axis = 1)\n",
    "    print(X)\n",
    "    model = LinearRegression(fit_intercept = False)\n",
    "    model.fit(X,y_train)\n",
    "\n",
    "    coefficients = model.coef_\n",
    "    #print(y)\n",
    "    # TODO: create regression model and train.\n",
    "\n",
    "    return model, coefficients\n",
    "\n"
   ]
  },
  {
   "cell_type": "code",
   "execution_count": 218,
   "metadata": {},
   "outputs": [
    {
     "name": "stdout",
     "output_type": "stream",
     "text": [
      "[[3.20000000e+01 5.80000000e-01 2.86000000e+00 1.47415317e+03\n",
      "  7.96000000e+02]\n",
      " [3.17500000e+01 5.70000000e-01 2.68000000e+00 1.57905525e+03\n",
      "  8.05000000e+02]\n",
      " [3.21666667e+01 4.80000000e-01 3.24000000e+00 1.50034858e+03\n",
      "  8.10000000e+02]\n",
      " ...\n",
      " [3.03333333e+01 8.60000000e-01 5.48000000e+00 1.10859542e+03\n",
      "  8.46000000e+02]\n",
      " [3.01666667e+01 8.80000000e-01 3.68000000e+00 1.18273408e+03\n",
      "  7.45000000e+02]\n",
      " [3.05000000e+01 1.06000000e+00 3.96000000e+00 1.38694733e+03\n",
      "  7.70000000e+02]]\n",
      "LinearRegression(fit_intercept=False) [ 5.96299639e-01  7.26935176e-01 -1.26922795e-01  2.74112833e-04\n",
      "  1.62989305e-02]\n"
     ]
    }
   ],
   "source": [
    "X_train, y_train = train_data[X_columns], train_data[y_column]\n",
    "m,c = get_trained_coefficients(X_train, y_train)  \n",
    "print(m,c)\n"
   ]
  },
  {
   "cell_type": "code",
   "execution_count": null,
   "metadata": {},
   "outputs": [],
   "source": []
  }
 ],
 "metadata": {
  "kernelspec": {
   "display_name": "Python 3",
   "language": "python",
   "name": "python3"
  },
  "language_info": {
   "codemirror_mode": {
    "name": "ipython",
    "version": 3
   },
   "file_extension": ".py",
   "mimetype": "text/x-python",
   "name": "python",
   "nbconvert_exporter": "python",
   "pygments_lexer": "ipython3",
   "version": "3.7.5"
  }
 },
 "nbformat": 4,
 "nbformat_minor": 4
}
