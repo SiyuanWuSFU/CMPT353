{
 "cells": [
  {
   "cell_type": "code",
   "execution_count": 8,
   "metadata": {},
   "outputs": [],
   "source": [
    "import pandas as pd\n",
    "import matplotlib.pyplot as plt\n",
    "import numpy as np\n",
    "from scipy import stats\n"
   ]
  },
  {
   "cell_type": "code",
   "execution_count": 2,
   "metadata": {},
   "outputs": [],
   "source": [
    "searches =  pd.read_json(\"searches.json\",orient='records', lines=True)"
   ]
  },
  {
   "cell_type": "code",
   "execution_count": 3,
   "metadata": {},
   "outputs": [
    {
     "name": "stdout",
     "output_type": "stream",
     "text": [
      "          uid  is_instructor  login_count  search_count\n",
      "0     6061521           True            1             2\n",
      "1    11986457          False            4             0\n",
      "2    15995765          False            1             0\n",
      "3     9106912           True            3             0\n",
      "4     9882383          False            1             0\n",
      "..        ...            ...          ...           ...\n",
      "676  16768212          False            2             0\n",
      "677   7643715           True            1             0\n",
      "678  14838641          False            1             0\n",
      "679   6454817          False            2             0\n",
      "680   9276990          False            2             3\n",
      "\n",
      "[681 rows x 4 columns]\n"
     ]
    }
   ],
   "source": [
    "print(searches)"
   ]
  },
  {
   "cell_type": "code",
   "execution_count": 7,
   "metadata": {},
   "outputs": [],
   "source": [
    "new = searches.loc[(searches['uid']%2 == 1)]\n",
    "original = searches.loc[(searches['uid']%2 == 0)]"
   ]
  },
  {
   "cell_type": "code",
   "execution_count": 11,
   "metadata": {},
   "outputs": [],
   "source": [
    "contingency = []\n",
    "one_login = new[new[\"login_count\"] > 0]\n",
    "print(one_login)"
   ]
  },
  {
   "cell_type": "code",
   "execution_count": null,
   "metadata": {},
   "outputs": [],
   "source": []
  }
 ],
 "metadata": {
  "kernelspec": {
   "display_name": "Python 3",
   "language": "python",
   "name": "python3"
  },
  "language_info": {
   "codemirror_mode": {
    "name": "ipython",
    "version": 3
   },
   "file_extension": ".py",
   "mimetype": "text/x-python",
   "name": "python",
   "nbconvert_exporter": "python",
   "pygments_lexer": "ipython3",
   "version": "3.7.5"
  }
 },
 "nbformat": 4,
 "nbformat_minor": 4
}
