{
 "cells": [
  {
   "cell_type": "code",
   "execution_count": 7,
   "metadata": {},
   "outputs": [],
   "source": [
    "import numpy as np\n",
    "import matplotlib.pyplot as plt\n",
    "from scipy import stats\n",
    "import pandas as pd"
   ]
  },
  {
   "cell_type": "code",
   "execution_count": 8,
   "metadata": {},
   "outputs": [
    {
     "name": "stdout",
     "output_type": "stream",
     "text": [
      "          qs1       qs2       qs3       qs4       qs5    merge1  \\\n",
      "0    0.025790  0.048141  0.052078  0.060486  0.059024  0.075887   \n",
      "1    0.024305  0.048608  0.048608  0.060016  0.058032  0.073408   \n",
      "2    0.026814  0.050561  0.046624  0.055056  0.057536  0.071947   \n",
      "3    0.024799  0.045633  0.045136  0.059519  0.058527  0.071920   \n",
      "4    0.026783  0.045633  0.046650  0.066933  0.062496  0.078368   \n",
      "..        ...       ...       ...       ...       ...       ...   \n",
      "146  0.033202  0.049105  0.056543  0.074924  0.066436  0.088784   \n",
      "147  0.024281  0.045631  0.051584  0.063488  0.062495  0.078369   \n",
      "148  0.029761  0.050096  0.055056  0.057040  0.060511  0.075392   \n",
      "149  0.027776  0.051087  0.051584  0.062497  0.061999  0.074400   \n",
      "150  0.025297  0.050592  0.051583  0.068448  0.063984  0.073435   \n",
      "\n",
      "     partition_sort  \n",
      "0          0.029759  \n",
      "1          0.028768  \n",
      "2          0.028741  \n",
      "3          0.032737  \n",
      "4          0.028273  \n",
      "..              ...  \n",
      "146        0.028791  \n",
      "147        0.029264  \n",
      "148        0.028768  \n",
      "149        0.030255  \n",
      "150        0.029733  \n",
      "\n",
      "[151 rows x 7 columns]\n"
     ]
    }
   ],
   "source": [
    "df = pd.read_csv(\"data.csv\")\n",
    "\n",
    "print(df)"
   ]
  },
  {
   "cell_type": "code",
   "execution_count": null,
   "metadata": {},
   "outputs": [],
   "source": [
    "anova = stats.f_oneway(df[\"qs1\"],df[\"qs2\"],df[\"qs3\"],df[\"qs4\"],df[\"qs5\"],df[\"merge1\"],df[\"partition_sort\"])\n",
    "print(anova.pvalue)"
   ]
  }
 ],
 "metadata": {
  "kernelspec": {
   "display_name": "Python 3",
   "language": "python",
   "name": "python3"
  },
  "language_info": {
   "codemirror_mode": {
    "name": "ipython",
    "version": 3
   },
   "file_extension": ".py",
   "mimetype": "text/x-python",
   "name": "python",
   "nbconvert_exporter": "python",
   "pygments_lexer": "ipython3",
   "version": "3.7.5"
  }
 },
 "nbformat": 4,
 "nbformat_minor": 4
}
