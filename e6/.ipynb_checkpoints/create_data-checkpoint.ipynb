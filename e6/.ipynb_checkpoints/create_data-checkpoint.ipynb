{
 "cells": [
  {
   "cell_type": "code",
   "execution_count": 86,
   "metadata": {},
   "outputs": [],
   "source": [
    "import time\n",
    "from implementations import all_implementations\n",
    "import numpy as np\n",
    "import matplotlib.pyplot as plt\n",
    "from scipy import stats"
   ]
  },
  {
   "cell_type": "code",
   "execution_count": 87,
   "metadata": {},
   "outputs": [
    {
     "name": "stdout",
     "output_type": "stream",
     "text": [
      "15000\n",
      "[ 9999 10003 10000 ...  9988 10005  9996]\n"
     ]
    }
   ],
   "source": [
    "\n"
   ]
  },
  {
   "cell_type": "code",
   "execution_count": 88,
   "metadata": {
    "scrolled": false
   },
   "outputs": [
    {
     "name": "stdout",
     "output_type": "stream",
     "text": [
      "0.0014874935150146484\n",
      "0.011408805847167969\n",
      "0.010452032089233398\n",
      "3.368320941925049\n",
      "1.0009024143218994\n",
      "0.09572386741638184\n",
      "0.03769540786743164\n",
      "count:  4.525990962982178\n",
      "0.0014951229095458984\n",
      "0.013412237167358398\n",
      "0.01092076301574707\n",
      "3.418884754180908\n",
      "1.0043976306915283\n",
      "0.09820723533630371\n",
      "0.037722110748291016\n",
      "count:  9.11103081703186\n",
      "0.0014853477478027344\n",
      "0.010887861251831055\n",
      "0.009920835494995117\n",
      "3.5846095085144043\n",
      "0.8997189998626709\n",
      "0.10614800453186035\n",
      "0.03818798065185547\n",
      "count:  13.76198935508728\n",
      "0.0009920597076416016\n",
      "0.014879941940307617\n",
      "0.01835179328918457\n",
      "3.500760793685913\n",
      "1.0341849327087402\n",
      "0.10611772537231445\n",
      "0.03719925880432129\n",
      "count:  18.474475860595703\n",
      "0.0009920597076416016\n",
      "0.01435708999633789\n",
      "0.012421369552612305\n",
      "3.407987594604492\n",
      "1.041125774383545\n",
      "0.10763669013977051\n",
      "0.037206411361694336\n",
      "count:  23.096202850341797\n",
      "0.0014879703521728516\n",
      "0.012895345687866211\n",
      "0.011903762817382812\n",
      "3.435755729675293\n",
      "0.9979543685913086\n",
      "0.09919595718383789\n",
      "0.03723001480102539\n",
      "count:  27.692625999450684\n",
      "0.0009894371032714844\n",
      "0.011904716491699219\n",
      "0.011380910873413086\n",
      "3.5052547454833984\n",
      "1.0212595462799072\n",
      "0.1066126823425293\n",
      "0.03722882270812988\n",
      "count:  32.38725686073303\n",
      "0.001486063003540039\n",
      "0.014375448226928711\n",
      "0.011389732360839844\n",
      "3.5711934566497803\n",
      "1.1016154289245605\n",
      "0.09872841835021973\n",
      "0.038687944412231445\n",
      "count:  37.22473335266113\n",
      "0.00148773193359375\n",
      "0.013393402099609375\n",
      "0.011400699615478516\n",
      "3.43477201461792\n",
      "1.477581262588501\n",
      "0.09671974182128906\n",
      "0.039183855056762695\n",
      "count:  42.29927206039429\n",
      "0.0014889240264892578\n",
      "0.014383316040039062\n",
      "0.010417461395263672\n",
      "3.5652403831481934\n",
      "1.0321929454803467\n",
      "0.10019063949584961\n",
      "0.0372004508972168\n",
      "count:  47.060386180877686\n",
      "0.0010235309600830078\n",
      "0.010408401489257812\n",
      "0.009920120239257812\n",
      "3.472961902618408\n",
      "0.9563179016113281\n",
      "0.09768438339233398\n",
      "0.03871774673461914\n",
      "count:  51.647420167922974\n",
      "0.0009872913360595703\n",
      "0.009895086288452148\n",
      "0.018354415893554688\n",
      "3.4303700923919678\n",
      "0.9622290134429932\n",
      "0.11455035209655762\n",
      "0.037198781967163086\n",
      "count:  56.22100520133972\n"
     ]
    }
   ],
   "source": [
    "count = 0\n",
    "while count<55:\n",
    "    random_array = np.random.normal(loc=10000, scale = 4,size=15000).astype(int)\n",
    "    for sort in all_implementations:\n",
    "        st = time.time()\n",
    "    \n",
    "        res = sort(random_array)\n",
    "        en = time.time()\n",
    "        print(en-st)\n",
    "        count = count +(en-st)\n",
    "    print(\"count: \",count)"
   ]
  },
  {
   "cell_type": "code",
   "execution_count": 89,
   "metadata": {},
   "outputs": [
    {
     "data": {
      "image/png": "[encoded data removed]",
      "text/plain": [
       "<Figure size 432x288 with 1 Axes>"
      ]
     },
     "metadata": {
      "needs_background": "light"
     },
     "output_type": "display_data"
    }
   ],
   "source": [
    "plt.figure()\n",
    "plt.hist(random_array, bins = 20)\n",
    "plt.show()"
   ]
  },
  {
   "cell_type": "code",
   "execution_count": 71,
   "metadata": {},
   "outputs": [
    {
     "name": "stdout",
     "output_type": "stream",
     "text": [
      "[49995 49997 50000 ... 50000 49999 49995]\n",
      "0.6163917299604709\n"
     ]
    }
   ],
   "source": [
    "normal = stats.normaltest(random_array)\n",
    "print(random_array)\n",
    "print(normal.pvalue)"
   ]
  },
  {
   "cell_type": "code",
   "execution_count": null,
   "metadata": {},
   "outputs": [],
   "source": []
  }
 ],
 "metadata": {
  "kernelspec": {
   "display_name": "Python 3",
   "language": "python",
   "name": "python3"
  },
  "language_info": {
   "codemirror_mode": {
    "name": "ipython",
    "version": 3
   },
   "file_extension": ".py",
   "mimetype": "text/x-python",
   "name": "python",
   "nbconvert_exporter": "python",
   "pygments_lexer": "ipython3",
   "version": "3.7.5"
  }
 },
 "nbformat": 4,
 "nbformat_minor": 4
}
