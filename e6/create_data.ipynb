{
 "cells": [
  {
   "cell_type": "code",
   "execution_count": 100,
   "metadata": {},
   "outputs": [],
   "source": [
    "import time\n",
    "from implementations import all_implementations\n",
    "import numpy as np\n",
    "import matplotlib.pyplot as plt\n",
    "from scipy import stats\n",
    "import pandas as pd"
   ]
  },
  {
   "cell_type": "code",
   "execution_count": 101,
   "metadata": {
    "scrolled": false
   },
   "outputs": [],
   "source": [
    "data = []\n",
    "count = 0\n",
    "while count<55:\n",
    "    random_array = np.random.normal(loc=10000, scale = 4,size=15000).astype(int)\n",
    "    one_sort = []\n",
    "    for sort in all_implementations:\n",
    "        st = time.time()\n",
    "    \n",
    "        res = sort(random_array)\n",
    "        en = time.time()\n",
    "        #print(en-st)\n",
    "        one_sort.append(en-st)\n",
    "        count = count +(en-st)\n",
    "    data.append(one_sort)\n",
    "    #print(\"count: \",count)"
   ]
  },
  {
   "cell_type": "code",
   "execution_count": 102,
   "metadata": {},
   "outputs": [
    {
     "data": {
      "image/png": "[encoded data removed]",
      "text/plain": [
       "<Figure size 432x288 with 1 Axes>"
      ]
     },
     "metadata": {
      "needs_background": "light"
     },
     "output_type": "display_data"
    }
   ],
   "source": [
    "plt.figure()\n",
    "plt.hist(random_array, bins = 20)\n",
    "plt.show()"
   ]
  },
  {
   "cell_type": "code",
   "execution_count": 103,
   "metadata": {},
   "outputs": [
    {
     "name": "stdout",
     "output_type": "stream",
     "text": [
      "[ 9994  9998  9998 ... 10003  9999  9998]\n",
      "0.5562699126778026\n"
     ]
    }
   ],
   "source": [
    "normal = stats.normaltest(random_array)\n",
    "print(random_array)\n",
    "print(normal.pvalue)"
   ]
  },
  {
   "cell_type": "code",
   "execution_count": 104,
   "metadata": {},
   "outputs": [],
   "source": [
    "\n",
    "df = pd.DataFrame(data,columns=['qs1','qs2','qs3','qs4','qs5','merge1','partition_sort'])"
   ]
  },
  {
   "cell_type": "code",
   "execution_count": 105,
   "metadata": {},
   "outputs": [
    {
     "name": "stdout",
     "output_type": "stream",
     "text": [
      "         qs1       qs2       qs3       qs4       qs5    merge1  partition_sort\n",
      "0   0.000965  0.014904  0.010889  3.422393  1.001917  0.100689        0.037719\n",
      "1   0.000997  0.010907  0.013406  3.493779  1.012831  0.096720        0.038688\n",
      "2   0.000992  0.009424  0.010912  3.483900  1.097148  0.094767        0.037195\n",
      "3   0.000997  0.017358  0.009890  3.453144  0.991506  0.101713        0.037164\n",
      "4   0.000992  0.011408  0.012896  3.417930  1.045590  0.095704        0.037695\n",
      "5   0.000992  0.011408  0.010416  3.462568  1.080808  0.096200        0.037203\n",
      "6   0.000993  0.009422  0.010940  3.592990  1.014813  0.099200        0.038689\n",
      "7   0.000992  0.011904  0.012400  3.587562  1.145262  0.109615        0.038688\n",
      "8   0.000992  0.015872  0.013888  3.779041  0.988506  0.106168        0.043124\n",
      "9   0.000992  0.010940  0.010912  3.521069  1.125954  0.095692        0.037200\n",
      "10  0.000992  0.012896  0.011408  3.466539  1.044596  0.095208        0.044172\n",
      "11  0.000992  0.010937  0.010391  3.536475  1.010347  0.109617        0.045134\n"
     ]
    }
   ],
   "source": [
    "print(df)"
   ]
  },
  {
   "cell_type": "code",
   "execution_count": null,
   "metadata": {},
   "outputs": [],
   "source": []
  }
 ],
 "metadata": {
  "kernelspec": {
   "display_name": "Python 3",
   "language": "python",
   "name": "python3"
  },
  "language_info": {
   "codemirror_mode": {
    "name": "ipython",
    "version": 3
   },
   "file_extension": ".py",
   "mimetype": "text/x-python",
   "name": "python",
   "nbconvert_exporter": "python",
   "pygments_lexer": "ipython3",
   "version": "3.7.5"
  }
 },
 "nbformat": 4,
 "nbformat_minor": 4
}
