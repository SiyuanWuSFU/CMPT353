{
 "cells": [
  {
   "cell_type": "code",
   "execution_count": 127,
   "metadata": {},
   "outputs": [],
   "source": [
    "import numpy as np\n",
    "import matplotlib.pyplot as plt\n",
    "from scipy import stats\n",
    "import pandas as pd\n",
    "from statsmodels.stats.multicomp import pairwise_tukeyhsd"
   ]
  },
  {
   "cell_type": "code",
   "execution_count": 128,
   "metadata": {},
   "outputs": [
    {
     "name": "stdout",
     "output_type": "stream",
     "text": [
      "         qs1       qs2       qs3       qs4       qs5    merge1  partition_sort\n",
      "0   0.064943  0.116558  0.114080  0.145327  0.125984  0.152273        0.055551\n",
      "1   0.062991  0.110112  0.112591  0.134416  0.129951  0.150784        0.055552\n",
      "2   0.064480  0.113584  0.123503  0.124495  0.127968  0.150815        0.056018\n",
      "3   0.068944  0.115073  0.114576  0.141856  0.126976  0.152272        0.055552\n",
      "4   0.064480  0.112591  0.113586  0.123038  0.135873  0.150783        0.055056\n",
      "..       ...       ...       ...       ...       ...       ...             ...\n",
      "68  0.064481  0.123007  0.126480  0.122512  0.131936  0.150290        0.055053\n",
      "69  0.062992  0.113585  0.112620  0.134883  0.125984  0.159712        0.064975\n",
      "70  0.063017  0.117526  0.112122  0.124994  0.129925  0.155745        0.056046\n",
      "71  0.063488  0.115595  0.112564  0.123008  0.129456  0.149792        0.055056\n",
      "72  0.062496  0.112592  0.113087  0.126481  0.128463  0.150288        0.054560\n",
      "\n",
      "[73 rows x 7 columns]\n"
     ]
    }
   ],
   "source": [
    "df = pd.read_csv(\"data.csv\")\n",
    "\n",
    "print(df)"
   ]
  },
  {
   "cell_type": "code",
   "execution_count": 129,
   "metadata": {},
   "outputs": [
    {
     "name": "stdout",
     "output_type": "stream",
     "text": [
      "0.0\n"
     ]
    }
   ],
   "source": [
    "anova = stats.f_oneway(df[\"qs1\"],df[\"qs2\"],df[\"qs3\"],df[\"qs4\"],df[\"qs5\"],df[\"merge1\"],df[\"partition_sort\"])\n",
    "print(anova.pvalue)"
   ]
  },
  {
   "cell_type": "code",
   "execution_count": 130,
   "metadata": {},
   "outputs": [
    {
     "name": "stdout",
     "output_type": "stream",
     "text": [
      "4.7957484553858393e-17\n",
      "0.0010946858846789544\n",
      "2.707334190319738e-07\n",
      "0.023982534936909744\n",
      "0.0001296169565333787\n",
      "2.1194875550912712e-07\n",
      "1.36992757823709e-15\n"
     ]
    },
    {
     "data": {
      "image/png": "[encoded data removed]",
      "text/plain": [
       "<Figure size 432x288 with 1 Axes>"
      ]
     },
     "metadata": {
      "needs_background": "light"
     },
     "output_type": "display_data"
    }
   ],
   "source": [
    "normal = stats.normaltest(df[\"qs1\"])\n",
    "print(normal.pvalue)\n",
    "normal = stats.normaltest(df[\"qs2\"])\n",
    "print(normal.pvalue)\n",
    "normal = stats.normaltest(df[\"qs3\"])\n",
    "print(normal.pvalue)\n",
    "normal = stats.normaltest(df[\"qs4\"])\n",
    "print(normal.pvalue)\n",
    "normal = stats.normaltest(df[\"qs5\"])\n",
    "print(normal.pvalue)\n",
    "normal = stats.normaltest(df[\"merge1\"])\n",
    "print(normal.pvalue)\n",
    "normal = stats.normaltest(df[\"partition_sort\"])\n",
    "print(normal.pvalue)\n",
    "plt.figure()\n",
    "plt.hist(df[\"qs5\"])\n",
    "plt.show()"
   ]
  },
  {
   "cell_type": "code",
   "execution_count": 131,
   "metadata": {},
   "outputs": [
    {
     "name": "stdout",
     "output_type": "stream",
     "text": [
      "           variable     value\n",
      "0               qs1  0.064943\n",
      "1               qs1  0.062991\n",
      "2               qs1  0.064480\n",
      "3               qs1  0.068944\n",
      "4               qs1  0.064480\n",
      "..              ...       ...\n",
      "506  partition_sort  0.055053\n",
      "507  partition_sort  0.064975\n",
      "508  partition_sort  0.056046\n",
      "509  partition_sort  0.055056\n",
      "510  partition_sort  0.054560\n",
      "\n",
      "[511 rows x 2 columns]\n"
     ]
    }
   ],
   "source": [
    "melt = pd.melt(df)\n",
    "print(melt)"
   ]
  },
  {
   "cell_type": "code",
   "execution_count": 132,
   "metadata": {},
   "outputs": [],
   "source": [
    "post_hoc = pairwise_tukeyhsd(melt['value'],melt['variable'],alpha=0.05)"
   ]
  },
  {
   "cell_type": "code",
   "execution_count": 133,
   "metadata": {},
   "outputs": [
    {
     "data": {
      "text/html": [
       "<table class=\"simpletable\">\n",
       "<caption>Multiple Comparison of Means - Tukey HSD, FWER=0.05</caption>\n",
       "<tr>\n",
       "      <th>group1</th>         <th>group2</th>     <th>meandiff</th>  <th>p-adj</th>  <th>lower</th>   <th>upper</th>  <th>reject</th>\n",
       "</tr>\n",
       "<tr>\n",
       "      <td>merge1</td>     <td>partition_sort</td>  <td>-0.0969</td>  <td>0.001</td> <td>-0.0987</td> <td>-0.095</td>   <td>True</td> \n",
       "</tr>\n",
       "<tr>\n",
       "      <td>merge1</td>           <td>qs1</td>       <td>-0.0883</td>  <td>0.001</td> <td>-0.0901</td> <td>-0.0864</td>  <td>True</td> \n",
       "</tr>\n",
       "<tr>\n",
       "      <td>merge1</td>           <td>qs2</td>       <td>-0.0379</td>  <td>0.001</td> <td>-0.0398</td> <td>-0.0361</td>  <td>True</td> \n",
       "</tr>\n",
       "<tr>\n",
       "      <td>merge1</td>           <td>qs3</td>       <td>-0.0377</td>  <td>0.001</td> <td>-0.0396</td> <td>-0.0358</td>  <td>True</td> \n",
       "</tr>\n",
       "<tr>\n",
       "      <td>merge1</td>           <td>qs4</td>       <td>-0.0217</td>  <td>0.001</td> <td>-0.0236</td> <td>-0.0199</td>  <td>True</td> \n",
       "</tr>\n",
       "<tr>\n",
       "      <td>merge1</td>           <td>qs5</td>       <td>-0.0239</td>  <td>0.001</td> <td>-0.0257</td> <td>-0.022</td>   <td>True</td> \n",
       "</tr>\n",
       "<tr>\n",
       "  <td>partition_sort</td>       <td>qs1</td>       <td>0.0086</td>   <td>0.001</td> <td>0.0067</td>  <td>0.0105</td>   <td>True</td> \n",
       "</tr>\n",
       "<tr>\n",
       "  <td>partition_sort</td>       <td>qs2</td>       <td>0.0589</td>   <td>0.001</td> <td>0.0571</td>  <td>0.0608</td>   <td>True</td> \n",
       "</tr>\n",
       "<tr>\n",
       "  <td>partition_sort</td>       <td>qs3</td>       <td>0.0592</td>   <td>0.001</td> <td>0.0573</td>   <td>0.061</td>   <td>True</td> \n",
       "</tr>\n",
       "<tr>\n",
       "  <td>partition_sort</td>       <td>qs4</td>       <td>0.0751</td>   <td>0.001</td> <td>0.0733</td>   <td>0.077</td>   <td>True</td> \n",
       "</tr>\n",
       "<tr>\n",
       "  <td>partition_sort</td>       <td>qs5</td>        <td>0.073</td>   <td>0.001</td> <td>0.0711</td>  <td>0.0749</td>   <td>True</td> \n",
       "</tr>\n",
       "<tr>\n",
       "        <td>qs1</td>            <td>qs2</td>       <td>0.0503</td>   <td>0.001</td> <td>0.0485</td>  <td>0.0522</td>   <td>True</td> \n",
       "</tr>\n",
       "<tr>\n",
       "        <td>qs1</td>            <td>qs3</td>       <td>0.0506</td>   <td>0.001</td> <td>0.0487</td>  <td>0.0525</td>   <td>True</td> \n",
       "</tr>\n",
       "<tr>\n",
       "        <td>qs1</td>            <td>qs4</td>       <td>0.0665</td>   <td>0.001</td> <td>0.0647</td>  <td>0.0684</td>   <td>True</td> \n",
       "</tr>\n",
       "<tr>\n",
       "        <td>qs1</td>            <td>qs5</td>       <td>0.0644</td>   <td>0.001</td> <td>0.0625</td>  <td>0.0663</td>   <td>True</td> \n",
       "</tr>\n",
       "<tr>\n",
       "        <td>qs2</td>            <td>qs3</td>       <td>0.0002</td>    <td>0.9</td>  <td>-0.0016</td> <td>0.0021</td>   <td>False</td>\n",
       "</tr>\n",
       "<tr>\n",
       "        <td>qs2</td>            <td>qs4</td>       <td>0.0162</td>   <td>0.001</td> <td>0.0143</td>  <td>0.0181</td>   <td>True</td> \n",
       "</tr>\n",
       "<tr>\n",
       "        <td>qs2</td>            <td>qs5</td>       <td>0.0141</td>   <td>0.001</td> <td>0.0122</td>  <td>0.0159</td>   <td>True</td> \n",
       "</tr>\n",
       "<tr>\n",
       "        <td>qs3</td>            <td>qs4</td>        <td>0.016</td>   <td>0.001</td> <td>0.0141</td>  <td>0.0178</td>   <td>True</td> \n",
       "</tr>\n",
       "<tr>\n",
       "        <td>qs3</td>            <td>qs5</td>       <td>0.0138</td>   <td>0.001</td>  <td>0.012</td>  <td>0.0157</td>   <td>True</td> \n",
       "</tr>\n",
       "<tr>\n",
       "        <td>qs4</td>            <td>qs5</td>       <td>-0.0021</td> <td>0.0139</td> <td>-0.004</td>  <td>-0.0003</td>  <td>True</td> \n",
       "</tr>\n",
       "</table>"
      ],
      "text/plain": [
       "<class 'statsmodels.iolib.table.SimpleTable'>"
      ]
     },
     "execution_count": 133,
     "metadata": {},
     "output_type": "execute_result"
    }
   ],
   "source": [
    "post_hoc.summary()"
   ]
  },
  {
   "cell_type": "code",
   "execution_count": 134,
   "metadata": {},
   "outputs": [
    {
     "data": {
      "image/png": "[encoded data removed]",
      "text/plain": [
       "<Figure size 720x432 with 1 Axes>"
      ]
     },
     "metadata": {
      "needs_background": "light"
     },
     "output_type": "display_data"
    }
   ],
   "source": [
    "fig = post_hoc.plot_simultaneous()"
   ]
  },
  {
   "cell_type": "code",
   "execution_count": null,
   "metadata": {},
   "outputs": [],
   "source": []
  }
 ],
 "metadata": {
  "kernelspec": {
   "display_name": "Python 3",
   "language": "python",
   "name": "python3"
  },
  "language_info": {
   "codemirror_mode": {
    "name": "ipython",
    "version": 3
   },
   "file_extension": ".py",
   "mimetype": "text/x-python",
   "name": "python",
   "nbconvert_exporter": "python",
   "pygments_lexer": "ipython3",
   "version": "3.7.5"
  }
 },
 "nbformat": 4,
 "nbformat_minor": 4
}
