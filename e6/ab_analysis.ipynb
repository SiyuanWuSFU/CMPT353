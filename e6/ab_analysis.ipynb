{
 "cells": [
  {
   "cell_type": "code",
   "execution_count": 45,
   "metadata": {},
   "outputs": [],
   "source": [
    "import pandas as pd\n",
    "import matplotlib.pyplot as plt\n",
    "import numpy as np\n",
    "from scipy import stats\n"
   ]
  },
  {
   "cell_type": "code",
   "execution_count": 46,
   "metadata": {},
   "outputs": [],
   "source": [
    "searches =  pd.read_json(\"searches.json\",orient='records', lines=True)"
   ]
  },
  {
   "cell_type": "code",
   "execution_count": 47,
   "metadata": {},
   "outputs": [
    {
     "name": "stdout",
     "output_type": "stream",
     "text": [
      "          uid  is_instructor  login_count  search_count\n",
      "0     6061521           True            1             2\n",
      "1    11986457          False            4             0\n",
      "2    15995765          False            1             0\n",
      "3     9106912           True            3             0\n",
      "4     9882383          False            1             0\n",
      "..        ...            ...          ...           ...\n",
      "676  16768212          False            2             0\n",
      "677   7643715           True            1             0\n",
      "678  14838641          False            1             0\n",
      "679   6454817          False            2             0\n",
      "680   9276990          False            2             3\n",
      "\n",
      "[681 rows x 4 columns]\n"
     ]
    }
   ],
   "source": [
    "print(searches)"
   ]
  },
  {
   "cell_type": "code",
   "execution_count": 48,
   "metadata": {},
   "outputs": [],
   "source": [
    "new = searches.loc[(searches['uid']%2 == 1)]\n",
    "original = searches.loc[(searches['uid']%2 == 0)]"
   ]
  },
  {
   "cell_type": "code",
   "execution_count": 49,
   "metadata": {},
   "outputs": [
    {
     "name": "stdout",
     "output_type": "stream",
     "text": [
      "[[111, 222], [98, 250]]\n"
     ]
    }
   ],
   "source": [
    "new_one_search = new[new[\"search_count\"] > 0]\n",
    "new_no_search = new[new[\"search_count\"] == 0]\n",
    "original_one_search = original[original[\"search_count\"] > 0]\n",
    "original_no_search = original[original[\"search_count\"] == 0]\n",
    "\n",
    "contingency = [[original_one_search.shape[0],original_no_search.shape[0]],\n",
    "              [new_one_search.shape[0],new_no_search.shape[0]]]\n",
    "print(contingency)"
   ]
  },
  {
   "cell_type": "code",
   "execution_count": 50,
   "metadata": {},
   "outputs": [
    {
     "name": "stdout",
     "output_type": "stream",
     "text": [
      "0.1676297094499566\n"
     ]
    }
   ],
   "source": [
    "chi2, p , dof, exp = stats.chi2_contingency(contingency)\n",
    "print(p)\n",
    "print(\"there might be no relationship\")"
   ]
  },
  {
   "cell_type": "code",
   "execution_count": 51,
   "metadata": {},
   "outputs": [],
   "source": [
    "teacher_new = searches.loc[(searches['uid']%2 == 1)&(searches['is_instructor']==True)]\n",
    "teacher_original = searches.loc[(searches['uid']%2 == 0)&(searches['is_instructor']==True)]"
   ]
  },
  {
   "cell_type": "code",
   "execution_count": 52,
   "metadata": {},
   "outputs": [
    {
     "name": "stdout",
     "output_type": "stream",
     "text": [
      "[[50, 70], [33, 82]]\n"
     ]
    }
   ],
   "source": [
    "teacher_new_one_search = teacher_new[teacher_new[\"search_count\"] > 0]\n",
    "teacher_new_no_search = teacher_new[teacher_new[\"search_count\"] == 0]\n",
    "teacher_original_one_search = teacher_original[teacher_original[\"search_count\"] > 0]\n",
    "teacher_original_no_search = teacher_original[teacher_original[\"search_count\"] == 0]\n",
    "\n",
    "contingency = [[teacher_original_one_search.shape[0],teacher_original_no_search.shape[0]],\n",
    "              [teacher_new_one_search.shape[0],teacher_new_no_search.shape[0]]]\n",
    "print(contingency)"
   ]
  },
  {
   "cell_type": "code",
   "execution_count": 53,
   "metadata": {},
   "outputs": [
    {
     "name": "stdout",
     "output_type": "stream",
     "text": [
      "0.052001632770999166\n"
     ]
    }
   ],
   "source": [
    "chi2, T_p , dof, exp = stats.chi2_contingency(contingency)\n",
    "print(T_p)\n",
    "print(\"there might be some relationship\")"
   ]
  },
  {
   "cell_type": "code",
   "execution_count": 28,
   "metadata": {},
   "outputs": [
    {
     "data": {
      "image/png": "[encoded data removed]",
      "text/plain": [
       "<Figure size 432x288 with 1 Axes>"
      ]
     },
     "metadata": {
      "needs_background": "light"
     },
     "output_type": "display_data"
    }
   ],
   "source": [
    "\n",
    "plt.figure()\n",
    "plt.hist((new[\"search_count\"],original[\"search_count\"]),label = ['new','original'])\n",
    "plt.legend(loc='upper right')\n",
    "plt.show()\n"
   ]
  },
  {
   "cell_type": "code",
   "execution_count": 29,
   "metadata": {},
   "outputs": [
    {
     "name": "stdout",
     "output_type": "stream",
     "text": [
      "          uid  is_instructor  login_count  search_count\n",
      "0     6061521           True            1             2\n",
      "7    11760157           True            1             0\n",
      "13   12986377           True           14             0\n",
      "14    9792541           True            1             0\n",
      "19   14915463           True            7             0\n",
      "..        ...            ...          ...           ...\n",
      "637   3013413           True            5             0\n",
      "640  16619457           True            1             0\n",
      "668   8698521           True            3             0\n",
      "671   6954951           True            2             0\n",
      "677   7643715           True            1             0\n",
      "\n",
      "[115 rows x 4 columns]\n",
      "          uid  is_instructor  login_count  search_count\n",
      "3     9106912           True            3             0\n",
      "21    3378724           True            1             0\n",
      "26    8905420           True            4             0\n",
      "33   13479688           True            3             0\n",
      "34   13982326           True            1             0\n",
      "..        ...            ...          ...           ...\n",
      "661   6580404           True            3             3\n",
      "662   1108670           True            2             9\n",
      "665  14273796           True           12             0\n",
      "667   6448802           True            1             1\n",
      "675  16412676           True            4             0\n",
      "\n",
      "[120 rows x 4 columns]\n"
     ]
    }
   ],
   "source": [
    "print(new)\n",
    "print(original)"
   ]
  },
  {
   "cell_type": "code",
   "execution_count": 56,
   "metadata": {},
   "outputs": [
    {
     "name": "stdout",
     "output_type": "stream",
     "text": [
      "0.07059103623543486\n"
     ]
    }
   ],
   "source": [
    "##U-test\n",
    "u_test = stats.mannwhitneyu(new[\"search_count\"],original[\"search_count\"])\n",
    "print(u_test.pvalue)"
   ]
  },
  {
   "cell_type": "code",
   "execution_count": 57,
   "metadata": {},
   "outputs": [
    {
     "name": "stdout",
     "output_type": "stream",
     "text": [
      "0.022479717008052572\n"
     ]
    }
   ],
   "source": [
    "Teacher_u_test = stats.mannwhitneyu(teacher_new[\"search_count\"],teacher_original[\"search_count\"])\n",
    "print(Teacher_u_test.pvalue)\n",
    "print(\"null h can be rejected with p<0.05\")"
   ]
  },
  {
   "cell_type": "code",
   "execution_count": null,
   "metadata": {},
   "outputs": [],
   "source": []
  }
 ],
 "metadata": {
  "kernelspec": {
   "display_name": "Python 3",
   "language": "python",
   "name": "python3"
  },
  "language_info": {
   "codemirror_mode": {
    "name": "ipython",
    "version": 3
   },
   "file_extension": ".py",
   "mimetype": "text/x-python",
   "name": "python",
   "nbconvert_exporter": "python",
   "pygments_lexer": "ipython3",
   "version": "3.7.5"
  }
 },
 "nbformat": 4,
 "nbformat_minor": 4
}
