{
 "cells": [
  {
   "cell_type": "code",
   "execution_count": 2,
   "metadata": {},
   "outputs": [],
   "source": [
    "import pandas as pd\n",
    "import matplotlib.pyplot as plt\n",
    "import re\n",
    "import numpy as np\n",
    "import datetime as dt\n",
    "from scipy import stats"
   ]
  },
  {
   "cell_type": "code",
   "execution_count": 13,
   "metadata": {},
   "outputs": [],
   "source": [
    "df = pd.DataFrame({'key': ['K0', 'K1', 'K2', 'K3', 'K4', 'K5'],\n",
    "                   'A': ['A0', 'A1', 'A2', 'A3', 'A4', 'A5']})\n",
    "df2 = pd.DataFrame({'key': ['K0', 'K1', 'K2', 'K3', 'K4', 'K5'],\n",
    "                    'A1': ['A0', 'A1', 'A1', 'A3', 'A3', 'A3'],\n",
    "                   's': ['1', '2', '2', '3', '4', '5']})"
   ]
  },
  {
   "cell_type": "code",
   "execution_count": 14,
   "metadata": {},
   "outputs": [
    {
     "data": {
      "text/html": [
       "<div>\n",
       "<style scoped>\n",
       "    .dataframe tbody tr th:only-of-type {\n",
       "        vertical-align: middle;\n",
       "    }\n",
       "\n",
       "    .dataframe tbody tr th {\n",
       "        vertical-align: top;\n",
       "    }\n",
       "\n",
       "    .dataframe thead th {\n",
       "        text-align: right;\n",
       "    }\n",
       "</style>\n",
       "<table border=\"1\" class=\"dataframe\">\n",
       "  <thead>\n",
       "    <tr style=\"text-align: right;\">\n",
       "      <th></th>\n",
       "      <th>A</th>\n",
       "      <th>A1</th>\n",
       "      <th>s</th>\n",
       "    </tr>\n",
       "    <tr>\n",
       "      <th>key</th>\n",
       "      <th></th>\n",
       "      <th></th>\n",
       "      <th></th>\n",
       "    </tr>\n",
       "  </thead>\n",
       "  <tbody>\n",
       "    <tr>\n",
       "      <th>K0</th>\n",
       "      <td>A0</td>\n",
       "      <td>A0</td>\n",
       "      <td>1</td>\n",
       "    </tr>\n",
       "    <tr>\n",
       "      <th>K1</th>\n",
       "      <td>A1</td>\n",
       "      <td>A1</td>\n",
       "      <td>2</td>\n",
       "    </tr>\n",
       "    <tr>\n",
       "      <th>K2</th>\n",
       "      <td>A2</td>\n",
       "      <td>A1</td>\n",
       "      <td>2</td>\n",
       "    </tr>\n",
       "    <tr>\n",
       "      <th>K3</th>\n",
       "      <td>A3</td>\n",
       "      <td>A3</td>\n",
       "      <td>3</td>\n",
       "    </tr>\n",
       "    <tr>\n",
       "      <th>K4</th>\n",
       "      <td>A4</td>\n",
       "      <td>A3</td>\n",
       "      <td>4</td>\n",
       "    </tr>\n",
       "    <tr>\n",
       "      <th>K5</th>\n",
       "      <td>A5</td>\n",
       "      <td>A3</td>\n",
       "      <td>5</td>\n",
       "    </tr>\n",
       "  </tbody>\n",
       "</table>\n",
       "</div>"
      ],
      "text/plain": [
       "      A  A1  s\n",
       "key           \n",
       "K0   A0  A0  1\n",
       "K1   A1  A1  2\n",
       "K2   A2  A1  2\n",
       "K3   A3  A3  3\n",
       "K4   A4  A3  4\n",
       "K5   A5  A3  5"
      ]
     },
     "execution_count": 14,
     "metadata": {},
     "output_type": "execute_result"
    }
   ],
   "source": [
    "df.set_index('key').join(df2.set_index('key'))"
   ]
  },
  {
   "cell_type": "code",
   "execution_count": 15,
   "metadata": {},
   "outputs": [
    {
     "ename": "NameError",
     "evalue": "name 'data' is not defined",
     "output_type": "error",
     "traceback": [
      "\u001b[1;31m---------------------------------------------------------------------------\u001b[0m",
      "\u001b[1;31mNameError\u001b[0m                                 Traceback (most recent call last)",
      "\u001b[1;32m<ipython-input-15-2f8e6f21ed19>\u001b[0m in \u001b[0;36m<module>\u001b[1;34m\u001b[0m\n\u001b[1;32m----> 1\u001b[1;33m \u001b[0maggregated\u001b[0m \u001b[1;33m=\u001b[0m \u001b[0mdata\u001b[0m\u001b[1;33m.\u001b[0m\u001b[0mgroupby\u001b[0m\u001b[1;33m(\u001b[0m\u001b[1;33m[\u001b[0m\u001b[1;34m\"A1\"\u001b[0m\u001b[1;33m]\u001b[0m\u001b[1;33m)\u001b[0m\u001b[1;33m.\u001b[0m\u001b[0msum\u001b[0m\u001b[1;33m(\u001b[0m\u001b[1;33m)\u001b[0m\u001b[1;33m.\u001b[0m\u001b[0mreset_index\u001b[0m\u001b[1;33m(\u001b[0m\u001b[1;33m)\u001b[0m\u001b[1;33m\u001b[0m\u001b[1;33m\u001b[0m\u001b[0m\n\u001b[0m",
      "\u001b[1;31mNameError\u001b[0m: name 'data' is not defined"
     ]
    }
   ],
   "source": [
    "aggregated = df.groupby([\"A1\"]).sum().reset_index()"
   ]
  },
  {
   "cell_type": "code",
   "execution_count": 13,
   "metadata": {},
   "outputs": [],
   "source": [
    "dog_data = pd.read_csv(\"dog_rates_tweets.csv\",parse_dates = True)\n",
    "#dog_data['created_at'] = pd.to_datetime(dog_data['created_at']).dt.to_period('M')\n",
    "dog_data['created_at']=dog_data.created_at.astype('datetime64[D]')\n",
    "\n",
    "#dog_data['month_year'] = dog_data['created_at'].dt.to_period('M')\n",
    "#dog_data['timestamp'] = dog_data['created_at'].apply(to_timestamp)"
   ]
  },
  {
   "cell_type": "code",
   "execution_count": 14,
   "metadata": {},
   "outputs": [],
   "source": [
    "dog_data['rating'] = dog_data['text'].str.extract(r'([1-9]+\\.?\\d?|[0])/10')\n",
    "#dog_data['rating'] = dog_data['text'].str.extract(r'(\\d+\\.?\\d?|[0])/10')"
   ]
  },
  {
   "cell_type": "code",
   "execution_count": 15,
   "metadata": {},
   "outputs": [],
   "source": [
    "valid = dog_data.dropna()"
   ]
  },
  {
   "cell_type": "code",
   "execution_count": 16,
   "metadata": {},
   "outputs": [],
   "source": [
    "final_valid = valid.loc[(valid['rating'].astype(float) >= 0) & (valid['rating'].astype(float)  <= 25)]\n",
    "#final_valid['rating'].astype(float)\n",
    "final_valid = final_valid.sort_values(['rating'],ascending=False)"
   ]
  },
  {
   "cell_type": "code",
   "execution_count": 17,
   "metadata": {
    "scrolled": true
   },
   "outputs": [],
   "source": [
    "#print(final_valid)"
   ]
  },
  {
   "cell_type": "code",
   "execution_count": 18,
   "metadata": {},
   "outputs": [
    {
     "data": {
      "image/png": "[encoded data removed]",
      "text/plain": [
       "<Figure size 432x288 with 1 Axes>"
      ]
     },
     "metadata": {
      "needs_background": "light"
     },
     "output_type": "display_data"
    }
   ],
   "source": [
    "plt.scatter(final_valid['created_at'], final_valid['rating'].astype(float), marker='o', s=10);\n",
    "plt.xticks(rotation=25)\n",
    "plt.ylim([-1,18])\n",
    "plt.show()"
   ]
  },
  {
   "cell_type": "code",
   "execution_count": 19,
   "metadata": {},
   "outputs": [],
   "source": [
    "final_valid['timestamp'] = final_valid.created_at.values.astype(np.int64) \n",
    "final_valid.to_csv('test3.csv')\n",
    "#print(final_valid['timestamp'])"
   ]
  },
  {
   "cell_type": "code",
   "execution_count": 20,
   "metadata": {},
   "outputs": [
    {
     "name": "stdout",
     "output_type": "stream",
     "text": [
      "3.514885072071496e-17 -40.44498174938502\n"
     ]
    },
    {
     "data": {
      "image/png": "[encoded data removed]",
      "text/plain": [
       "<Figure size 432x288 with 1 Axes>"
      ]
     },
     "metadata": {
      "needs_background": "light"
     },
     "output_type": "display_data"
    }
   ],
   "source": [
    "slope, intercept, r_value, p_value, std_err = stats.linregress(final_valid['timestamp'],final_valid['rating'].astype(float))\n",
    "print(slope,intercept)\n",
    "plt.xticks(rotation=25)\n",
    "plt.plot(final_valid['created_at'], final_valid['rating'].astype(float), 'b.', alpha=0.5)\n",
    "plt.plot(final_valid['created_at'], final_valid['timestamp']*slope+intercept, 'r-', linewidth=3)\n",
    "plt.show()"
   ]
  },
  {
   "cell_type": "code",
   "execution_count": 21,
   "metadata": {},
   "outputs": [
    {
     "name": "stdout",
     "output_type": "stream",
     "text": [
      "Slope: 3.514885072071496e-17\n",
      "Intercept: -40.44498174938502\n",
      "                      id created_at  \\\n",
      "4900  752568224206688256 2016-07-11   \n",
      "5704  705223444686888960 2016-03-03   \n",
      "5625  708845821941387268 2016-03-13   \n",
      "5048  745422732645535745 2016-06-22   \n",
      "5641  708119489313951744 2016-03-11   \n",
      "...                  ...        ...   \n",
      "4840  757741869644341248 2016-07-26   \n",
      "2875  851861385021730816 2017-04-11   \n",
      "4177  798576900688019456 2016-11-15   \n",
      "5024  746906459439529985 2016-06-26   \n",
      "3302  835152434251116546 2017-02-24   \n",
      "\n",
      "                                                   text rating  \\\n",
      "4900  Here are three doggos completely misjudging an...      9   \n",
      "5704  This is Bode. He's a heavy sleeper. 9/10 https...      9   \n",
      "5625  Here's a pupper with magic eyes. Not wearing a...      9   \n",
      "5048  We only rate dogs. Pls stop sending in non-can...      9   \n",
      "5641  This is Cooper. He basks in the glory of rebel...      9   \n",
      "...                                                 ...    ...   \n",
      "4840  This is Leonard. He hides in bushes to escape ...     10   \n",
      "2875  RT @eddie_coe98: Thanks @dog_rates completed m...     10   \n",
      "4177  RT @dog_rates: Not familiar with this breed. N...      1   \n",
      "5024  PUPDATE: can't see any. Even if I could, I cou...      0   \n",
      "3302  When you're so blinded by your systematic plag...      0   \n",
      "\n",
      "                timestamp  \n",
      "4900  1468195200000000000  \n",
      "5704  1456963200000000000  \n",
      "5625  1457827200000000000  \n",
      "5048  1466553600000000000  \n",
      "5641  1457654400000000000  \n",
      "...                   ...  \n",
      "4840  1469491200000000000  \n",
      "2875  1491868800000000000  \n",
      "4177  1479168000000000000  \n",
      "5024  1466899200000000000  \n",
      "3302  1487894400000000000  \n",
      "\n",
      "[1667 rows x 5 columns]\n"
     ]
    }
   ],
   "source": [
    "print(\"Slope:\", slope)\n",
    "print(\"Intercept:\",intercept)\n",
    "print(final_valid)"
   ]
  },
  {
   "cell_type": "code",
   "execution_count": 26,
   "metadata": {},
   "outputs": [
    {
     "data": {
      "text/html": [
       "<div>\n",
       "<style scoped>\n",
       "    .dataframe tbody tr th:only-of-type {\n",
       "        vertical-align: middle;\n",
       "    }\n",
       "\n",
       "    .dataframe tbody tr th {\n",
       "        vertical-align: top;\n",
       "    }\n",
       "\n",
       "    .dataframe thead th {\n",
       "        text-align: right;\n",
       "    }\n",
       "</style>\n",
       "<table border=\"1\" class=\"dataframe\">\n",
       "  <thead>\n",
       "    <tr style=\"text-align: right;\">\n",
       "      <th></th>\n",
       "      <th>id</th>\n",
       "      <th>created_at</th>\n",
       "      <th>text</th>\n",
       "      <th>rating</th>\n",
       "      <th>timestamp</th>\n",
       "      <th>prediction</th>\n",
       "    </tr>\n",
       "  </thead>\n",
       "  <tbody>\n",
       "    <tr>\n",
       "      <th>5836</th>\n",
       "      <td>1125919633284800512</td>\n",
       "      <td>2019-05-08</td>\n",
       "      <td>This is Pake. His parents just graduated and h...</td>\n",
       "      <td>14</td>\n",
       "      <td>1557273600000000000</td>\n",
       "      <td>14.291396</td>\n",
       "    </tr>\n",
       "    <tr>\n",
       "      <th>5845</th>\n",
       "      <td>1125551585919000577</td>\n",
       "      <td>2019-05-07</td>\n",
       "      <td>This is Dobby. He doesn’t mind bath time becau...</td>\n",
       "      <td>12</td>\n",
       "      <td>1557187200000000000</td>\n",
       "      <td>14.288359</td>\n",
       "    </tr>\n",
       "    <tr>\n",
       "      <th>5851</th>\n",
       "      <td>1125193941152747520</td>\n",
       "      <td>2019-05-06</td>\n",
       "      <td>This is Remy. She’s a jenga legend. Not sure w...</td>\n",
       "      <td>14</td>\n",
       "      <td>1557100800000000000</td>\n",
       "      <td>14.285322</td>\n",
       "    </tr>\n",
       "    <tr>\n",
       "      <th>5855</th>\n",
       "      <td>1124776873731342336</td>\n",
       "      <td>2019-05-04</td>\n",
       "      <td>This is Erynn. She had a very busy day at the ...</td>\n",
       "      <td>13</td>\n",
       "      <td>1556928000000000000</td>\n",
       "      <td>14.279248</td>\n",
       "    </tr>\n",
       "    <tr>\n",
       "      <th>5878</th>\n",
       "      <td>1123738912223051776</td>\n",
       "      <td>2019-05-02</td>\n",
       "      <td>This is Ace. His ear is standing up and it’s n...</td>\n",
       "      <td>13</td>\n",
       "      <td>1556755200000000000</td>\n",
       "      <td>14.273174</td>\n",
       "    </tr>\n",
       "    <tr>\n",
       "      <th>...</th>\n",
       "      <td>...</td>\n",
       "      <td>...</td>\n",
       "      <td>...</td>\n",
       "      <td>...</td>\n",
       "      <td>...</td>\n",
       "      <td>...</td>\n",
       "    </tr>\n",
       "    <tr>\n",
       "      <th>5804</th>\n",
       "      <td>699079609774645248</td>\n",
       "      <td>2016-02-15</td>\n",
       "      <td>Meet Reagan. He's a Persnicketus Derpson. Grea...</td>\n",
       "      <td>8</td>\n",
       "      <td>1455494400000000000</td>\n",
       "      <td>10.713974</td>\n",
       "    </tr>\n",
       "    <tr>\n",
       "      <th>5801</th>\n",
       "      <td>699323444782047232</td>\n",
       "      <td>2016-02-15</td>\n",
       "      <td>\"I'm bathing the children what do you want?\"  ...</td>\n",
       "      <td>10</td>\n",
       "      <td>1455494400000000000</td>\n",
       "      <td>10.713974</td>\n",
       "    </tr>\n",
       "    <tr>\n",
       "      <th>5814</th>\n",
       "      <td>698907974262222848</td>\n",
       "      <td>2016-02-14</td>\n",
       "      <td>This dog is never sure if he's doing the right...</td>\n",
       "      <td>10</td>\n",
       "      <td>1455408000000000000</td>\n",
       "      <td>10.710937</td>\n",
       "    </tr>\n",
       "    <tr>\n",
       "      <th>5811</th>\n",
       "      <td>698989035503689728</td>\n",
       "      <td>2016-02-14</td>\n",
       "      <td>This is Oliver. He does toe touches in his sle...</td>\n",
       "      <td>13</td>\n",
       "      <td>1455408000000000000</td>\n",
       "      <td>10.710937</td>\n",
       "    </tr>\n",
       "    <tr>\n",
       "      <th>5812</th>\n",
       "      <td>698953797952008193</td>\n",
       "      <td>2016-02-14</td>\n",
       "      <td>Meet CeCe. She wanted to take a selfie before ...</td>\n",
       "      <td>11</td>\n",
       "      <td>1455408000000000000</td>\n",
       "      <td>10.710937</td>\n",
       "    </tr>\n",
       "  </tbody>\n",
       "</table>\n",
       "<p>1667 rows × 6 columns</p>\n",
       "</div>"
      ],
      "text/plain": [
       "                       id created_at  \\\n",
       "5836  1125919633284800512 2019-05-08   \n",
       "5845  1125551585919000577 2019-05-07   \n",
       "5851  1125193941152747520 2019-05-06   \n",
       "5855  1124776873731342336 2019-05-04   \n",
       "5878  1123738912223051776 2019-05-02   \n",
       "...                   ...        ...   \n",
       "5804   699079609774645248 2016-02-15   \n",
       "5801   699323444782047232 2016-02-15   \n",
       "5814   698907974262222848 2016-02-14   \n",
       "5811   698989035503689728 2016-02-14   \n",
       "5812   698953797952008193 2016-02-14   \n",
       "\n",
       "                                                   text rating  \\\n",
       "5836  This is Pake. His parents just graduated and h...     14   \n",
       "5845  This is Dobby. He doesn’t mind bath time becau...     12   \n",
       "5851  This is Remy. She’s a jenga legend. Not sure w...     14   \n",
       "5855  This is Erynn. She had a very busy day at the ...     13   \n",
       "5878  This is Ace. His ear is standing up and it’s n...     13   \n",
       "...                                                 ...    ...   \n",
       "5804  Meet Reagan. He's a Persnicketus Derpson. Grea...      8   \n",
       "5801  \"I'm bathing the children what do you want?\"  ...     10   \n",
       "5814  This dog is never sure if he's doing the right...     10   \n",
       "5811  This is Oliver. He does toe touches in his sle...     13   \n",
       "5812  Meet CeCe. She wanted to take a selfie before ...     11   \n",
       "\n",
       "                timestamp  prediction  \n",
       "5836  1557273600000000000   14.291396  \n",
       "5845  1557187200000000000   14.288359  \n",
       "5851  1557100800000000000   14.285322  \n",
       "5855  1556928000000000000   14.279248  \n",
       "5878  1556755200000000000   14.273174  \n",
       "...                   ...         ...  \n",
       "5804  1455494400000000000   10.713974  \n",
       "5801  1455494400000000000   10.713974  \n",
       "5814  1455408000000000000   10.710937  \n",
       "5811  1455408000000000000   10.710937  \n",
       "5812  1455408000000000000   10.710937  \n",
       "\n",
       "[1667 rows x 6 columns]"
      ]
     },
     "execution_count": 26,
     "metadata": {},
     "output_type": "execute_result"
    }
   ],
   "source": [
    "final_valid['prediction'] = final_valid['timestamp']*slope+intercept\n",
    "final_valid.sort_values(['prediction'],ascending=False)\n"
   ]
  },
  {
   "cell_type": "code",
   "execution_count": null,
   "metadata": {},
   "outputs": [],
   "source": []
  }
 ],
 "metadata": {
  "kernelspec": {
   "display_name": "Python 3",
   "language": "python",
   "name": "python3"
  },
  "language_info": {
   "codemirror_mode": {
    "name": "ipython",
    "version": 3
   },
   "file_extension": ".py",
   "mimetype": "text/x-python",
   "name": "python",
   "nbconvert_exporter": "python",
   "pygments_lexer": "ipython3",
   "version": "3.7.5"
  }
 },
 "nbformat": 4,
 "nbformat_minor": 4
}
