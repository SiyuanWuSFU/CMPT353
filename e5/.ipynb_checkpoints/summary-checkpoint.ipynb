{
 "cells": [
  {
   "cell_type": "code",
   "execution_count": 98,
   "metadata": {},
   "outputs": [],
   "source": [
    "import numpy as np\n",
    "import pandas as pd\n",
    "import math"
   ]
  },
  {
   "cell_type": "code",
   "execution_count": 68,
   "metadata": {},
   "outputs": [],
   "source": [
    "\n",
    "df1 = pd.read_csv('data-1.csv')\n",
    "df2 = pd.read_csv('data-2.csv')\n",
    "df3 = pd.read_csv('data-3.csv')\n",
    "df4 = pd.read_csv('data-4.csv')\n",
    "df5 = pd.read_csv('data-5.csv')\n",
    "df6 = pd.read_csv('data-6.csv')\n",
    "data_list = [df1,df2,df3,df4,df5,df6]\n"
   ]
  },
  {
   "cell_type": "code",
   "execution_count": 78,
   "metadata": {},
   "outputs": [
    {
     "name": "stdout",
     "output_type": "stream",
     "text": [
      "x mean:  ['8.71769618641382', '-0.7107871267159573', '0.9689074904200939', '49.90508614830509', '49.90999357843095', '7.21615517960992']\n",
      "y mean:  ['12.522874034702584', '-0.7489869764497991', '8.508535236641327', '18.553836525423726', '18.555524937729086', '7.602215028237295']\n",
      "x max:  ['35.23705548785129', '27.6470003722073', '4.51888491755363', '87.3767', '91.0528633396976', '35.402138910929']\n",
      "y max:  ['27.38415261152477', '14.147314992317481', '10.551871022804317', '44.56504', '49.93419703633311', '36.07987403078143']\n",
      "x min:  ['-22.635877790008944', '-33.2711130771198', '-2.4490643296742807', '0.0', '4.337892453674525', '-24.33382075234097']\n",
      "y min:  ['-2.5650878326932127', '-18.621803760419066', '6.641734490391762', '0.0', '0.05549750758115175', '-22.9563569970746']\n",
      "std x:  ['12.15551723122202', '11.481583587790734', '2.235557861057969', '28.508610519881934', '28.500000943801357', '11.921599067458311']\n",
      "std y:  ['6.63996400756785', '6.257917998755848', '1.1493008110024525', '16.545896442941682', '16.540796301840782', '11.764382455006649']\n",
      "correlation:  [0.9503256954375482, 0.9551531665750372, 0.981937264676066, -0.08119306735490815, -0.08823598983058885, 0.9350685662094906]\n"
     ]
    }
   ],
   "source": [
    "#df = pd.concat([d1, d2,d3,d4,d5,d6],axis=1)\n",
    "#df.to_csv('test.csv')\n",
    "mean_x,mean_y = [],[]\n",
    "max_x,max_y = [],[]\n",
    "min_x,min_y = [],[]\n",
    "std_x, std_y = [],[]\n",
    "cor = []\n",
    "for data in data_list:\n",
    "    x_mean = data['x'].mean()\n",
    "    y_mean = data['y'].mean()\n",
    "    x_max = data['x'].max()\n",
    "    y_max = data['y'].max()\n",
    "    x_min = data['x'].min()\n",
    "    y_min = data['y'].min()\n",
    "    x_std = data['x'].std()\n",
    "    y_std = data['y'].std()\n",
    "    correlation = data['x'].corr(data['y'])\n",
    "\n",
    "    mean_x.append(str(x_mean))\n",
    "    mean_y.append(str(y_mean))\n",
    "    max_x.append(str(x_max))\n",
    "    max_y.append(str(y_max))\n",
    "    min_x.append(str(x_min))\n",
    "    min_y.append(str(y_min))    \n",
    "    std_x.append(str(x_std))\n",
    "    std_y.append(str(y_std))   \n",
    "    cor.append(correlation)\n",
    "print(\"x mean: \", mean_x)\n",
    "print(\"y mean: \", mean_y)\n",
    "print(\"x max: \", max_x)\n",
    "print(\"y max: \", max_y)\n",
    "print(\"x min: \", min_x)\n",
    "print(\"y min: \", min_y)\n",
    "print(\"std x: \", std_x)\n",
    "print(\"std y: \", std_y)\n",
    "print(\"correlation: \", cor)"
   ]
  },
  {
   "cell_type": "code",
   "execution_count": 112,
   "metadata": {},
   "outputs": [],
   "source": [
    "## produce txt\n",
    "f = open(\"summary.txt\", \"a\")\n",
    "\n",
    "\n",
    "for i in range(len(mean_x)):\n",
    "    notice = \"\"\n",
    "    if(abs(cor[i]<0.05)):\n",
    "        notice = \"The correlation between x and y is close to 0, which means x and y may not have any connections\\n\"\n",
    "    summary = \"dataset\"+ str(i+1)+\" has x mean \"+mean_x[i]+\", y mean \"+mean_y[i]+\". \\n x value is in range \"+ max_x[i]+ \" to \"+ min_x[i]\\\n",
    "    +\", and y value is in range \"+max_y[i]+ \" to \"+ min_y[i]+\". \\n The standard deviation of x and y are \"+std_x[i] +\" and \"+std_y[i]\\\n",
    "    +\".\\n\"+\"The correlation between x and y is \"+ str(cor[i])+ \".\\n\"+notice+\"\\n\"\n",
    "\n",
    "    f.write(summary)\n",
    "f.close()"
   ]
  },
  {
   "cell_type": "code",
   "execution_count": null,
   "metadata": {},
   "outputs": [],
   "source": []
  }
 ],
 "metadata": {
  "kernelspec": {
   "display_name": "Python 3",
   "language": "python",
   "name": "python3"
  },
  "language_info": {
   "codemirror_mode": {
    "name": "ipython",
    "version": 3
   },
   "file_extension": ".py",
   "mimetype": "text/x-python",
   "name": "python",
   "nbconvert_exporter": "python",
   "pygments_lexer": "ipython3",
   "version": "3.7.5"
  }
 },
 "nbformat": 4,
 "nbformat_minor": 4
}
