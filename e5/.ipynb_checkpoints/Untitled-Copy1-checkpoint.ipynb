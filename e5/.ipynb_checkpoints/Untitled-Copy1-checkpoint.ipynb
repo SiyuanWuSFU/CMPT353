{
 "cells": [
  {
   "cell_type": "code",
   "execution_count": 221,
   "metadata": {},
   "outputs": [],
   "source": [
    "import sys\n",
    "import pandas as pd\n",
    "from datetime import date\n",
    "from scipy import stats\n",
    "import matplotlib.pyplot as plt\n",
    "import numpy as np"
   ]
  },
  {
   "cell_type": "code",
   "execution_count": 222,
   "metadata": {},
   "outputs": [],
   "source": [
    "counts = pd.read_json(\"reddit-counts.json.gz\", lines=True)"
   ]
  },
  {
   "cell_type": "code",
   "execution_count": 223,
   "metadata": {},
   "outputs": [],
   "source": [
    "counts_canada = counts.loc[counts['subreddit'] == \"canada\"]\n",
    "filtered = counts_canada.loc[(counts_canada['date'].dt.year==2013) | (counts_canada['date'].dt.year==2012)]"
   ]
  },
  {
   "cell_type": "code",
   "execution_count": 224,
   "metadata": {},
   "outputs": [],
   "source": [
    "weekend = filtered.loc[(filtered['date'].dt.dayofweek==5)|(filtered['date'].dt.dayofweek==6)]\n",
    "weekday = filtered.loc[(filtered['date'].dt.dayofweek!=5)& (filtered['date'].dt.dayofweek!=6)]"
   ]
  },
  {
   "cell_type": "code",
   "execution_count": 225,
   "metadata": {},
   "outputs": [
    {
     "name": "stdout",
     "output_type": "stream",
     "text": [
      "-19.068164546804166\n",
      "6.138975517118774e-60\n"
     ]
    }
   ],
   "source": [
    "ttest = stats.ttest_ind(weekend[\"comment_count\"],weekday[\"comment_count\"],equal_var = False)\n",
    "print(ttest.statistic)\n",
    "print(ttest.pvalue)"
   ]
  },
  {
   "cell_type": "code",
   "execution_count": 226,
   "metadata": {},
   "outputs": [
    {
     "name": "stdout",
     "output_type": "stream",
     "text": [
      "normality  0.0015209196859635404\n",
      "normality  1.0091137251707994e-07\n",
      "equal variance p-value:  0.04378740989202803\n",
      "Not normally distrubuted, not equal variance\n",
      "It is very unlikely that there are same number of comments on weekdays and weekends\n"
     ]
    }
   ],
   "source": [
    "weekend_n = stats.normaltest(weekend[\"comment_count\"])\n",
    "print(\"normality \",weekend_n.pvalue)\n",
    "weekday_n = stats.normaltest(weekday[\"comment_count\"])\n",
    "print(\"normality \",weekday_n.pvalue)\n",
    "stat,p= stats.levene(weekend[\"comment_count\"],weekday[\"comment_count\"])\n",
    "print(\"equal variance p-value: \",p)\n",
    "\n",
    "print(\"Not normally distrubuted, not equal variance\")\n",
    "print(\"It is very unlikely that there are same number of comments on weekdays and weekends\")"
   ]
  },
  {
   "cell_type": "code",
   "execution_count": 227,
   "metadata": {
    "scrolled": true
   },
   "outputs": [
    {
     "data": {
      "image/png": "[encoded data removed]",
      "text/plain": [
       "<Figure size 432x288 with 1 Axes>"
      ]
     },
     "metadata": {
      "needs_background": "light"
     },
     "output_type": "display_data"
    }
   ],
   "source": [
    "plt.figure()\n",
    "plt.hist((weekend[\"comment_count\"],weekday[\"comment_count\"]),label = ['weekend','weekday'])\n",
    "plt.legend(loc='upper right')\n",
    "plt.show()"
   ]
  },
  {
   "cell_type": "code",
   "execution_count": 228,
   "metadata": {},
   "outputs": [
    {
     "name": "stdout",
     "output_type": "stream",
     "text": [
      "normality  0.10760562894666933\n",
      "normality  0.03687221613365365\n",
      "equal variance p-value:  0.5560544297516696\n",
      "First one normally distrubuted,equal variance\n"
     ]
    }
   ],
   "source": [
    "weekend_trans = np.sqrt(weekend[\"comment_count\"])\n",
    "weekday_trans = np.sqrt(weekday[\"comment_count\"])\n",
    "weekend_n = stats.normaltest(weekend_trans)\n",
    "print(\"normality \",weekend_n.pvalue)\n",
    "weekday_n = stats.normaltest(weekday_trans)\n",
    "print(\"normality \",weekday_n.pvalue)\n",
    "stat,p= stats.levene(weekend_trans,weekday_trans)\n",
    "print(\"equal variance p-value: \",p)\n",
    "print(\"First one normally distrubuted,equal variance\")"
   ]
  },
  {
   "cell_type": "code",
   "execution_count": 229,
   "metadata": {},
   "outputs": [
    {
     "name": "stdout",
     "output_type": "stream",
     "text": [
      "            comment_count\n",
      "year month               \n",
      "2008 10          4.000000\n",
      "     11          2.000000\n",
      "     13          2.500000\n",
      "     14          2.500000\n",
      "     15          2.500000\n",
      "...                   ...\n",
      "2015 5         216.041667\n",
      "     6         267.650000\n",
      "     7         254.476190\n",
      "     8         276.809524\n",
      "     9         228.250000\n",
      "\n",
      "[378 rows x 1 columns]\n",
      "            comment_count\n",
      "year month               \n",
      "2008 10          2.000000\n",
      "     11          3.250000\n",
      "     12          1.666667\n",
      "     13          5.200000\n",
      "     14          7.000000\n",
      "...                   ...\n",
      "2015 5         323.639344\n",
      "     6         311.950000\n",
      "     7         334.444444\n",
      "     8         313.440678\n",
      "     9         371.603774\n",
      "\n",
      "[382 rows x 1 columns]\n"
     ]
    }
   ],
   "source": [
    "## adopted from https://stackoverflow.com/questions/48058304/how-to-apply-series-in-isocalendar-function-in-pandas-python\n",
    "## Fix 2 \n",
    "all_weekend = counts.loc[(counts['date'].dt.dayofweek==5)|(counts['date'].dt.dayofweek==6)]\n",
    "all_weekday = counts.loc[(counts['date'].dt.dayofweek!=5)& (counts['date'].dt.dayofweek!=6)]\n",
    "all_weekend = all_weekend.copy()\n",
    "all_weekday = all_weekday.copy()\n",
    "#counts[\"year\"] = counts[\"date\"].apply(lambda x: str(x.isocalendar()[0]) )\n",
    "#counts[\"month\"] = counts[\"date\"].apply(lambda x: str(x.isocalendar()[1]) )\n",
    "\n",
    "\n",
    "all_weekend[\"year\"] = all_weekend[\"date\"].apply(lambda x: str(x.isocalendar()[0]) )\n",
    "all_weekend[\"month\"] = all_weekend[\"date\"].apply(lambda x: str(x.isocalendar()[1]) )\n",
    "\n",
    "all_weekday[\"year\"] = all_weekday[\"date\"].apply(lambda x: str(x.isocalendar()[0]) )\n",
    "all_weekday[\"month\"] = all_weekday[\"date\"].apply(lambda x: str(x.isocalendar()[1]) )\n",
    "\n",
    "aggregated_weekend = all_weekend.groupby(['year', 'month']).mean()\n",
    "aggregated_weekday = all_weekday.groupby(['year', 'month']).mean()\n",
    "#aggregated = counts.groupby(['year', 'month']).mean()\n",
    "print(aggregated_weekend)\n",
    "print(aggregated_weekday)\n",
    "#print(aggregated)"
   ]
  },
  {
   "cell_type": "code",
   "execution_count": 233,
   "metadata": {},
   "outputs": [
    {
     "name": "stdout",
     "output_type": "stream",
     "text": [
      "6.804952118330573e-09\n"
     ]
    }
   ],
   "source": [
    "ttest = stats.ttest_ind(aggregated_weekend[\"comment_count\"],aggregated_weekday[\"comment_count\"])\n",
    "print(ttest.pvalue)"
   ]
  },
  {
   "cell_type": "code",
   "execution_count": 231,
   "metadata": {},
   "outputs": [
    {
     "name": "stdout",
     "output_type": "stream",
     "text": [
      "normality  1.5508062713375688e-59\n",
      "normality  7.48833352976539e-27\n",
      "equal variance p-value:  0.328428138503014\n"
     ]
    }
   ],
   "source": [
    "a_weekend_n = stats.normaltest(aggregated_weekend[\"comment_count\"])\n",
    "print(\"normality \",a_weekend_n.pvalue)\n",
    "a_weekday_n = stats.normaltest(aggregated_weekday[\"comment_count\"])\n",
    "print(\"normality \",a_weekday_n.pvalue)\n",
    "stat,p= stats.levene(aggregated_weekend[\"comment_count\"],aggregated_weekday[\"comment_count\"])\n",
    "print(\"equal variance p-value: \",p)\n"
   ]
  },
  {
   "cell_type": "code",
   "execution_count": 232,
   "metadata": {},
   "outputs": [
    {
     "name": "stderr",
     "output_type": "stream",
     "text": [
      "c:\\users\\leonwu\\appdata\\local\\programs\\python\\python37\\lib\\site-packages\\numpy\\core\\_asarray.py:83: VisibleDeprecationWarning: Creating an ndarray from ragged nested sequences (which is a list-or-tuple of lists-or-tuples-or ndarrays with different lengths or shapes) is deprecated. If you meant to do this, you must specify 'dtype=object' when creating the ndarray\n",
      "  return array(a, dtype, copy=False, order=order)\n"
     ]
    },
    {
     "data": {
      "image/png": "[encoded data removed]",
      "text/plain": [
       "<Figure size 432x288 with 1 Axes>"
      ]
     },
     "metadata": {
      "needs_background": "light"
     },
     "output_type": "display_data"
    }
   ],
   "source": [
    "plt.figure()\n",
    "plt.hist((aggregated_weekend[\"comment_count\"],aggregated_weekday[\"comment_count\"]),label = ['weekend','weekday'])\n",
    "plt.legend(loc='upper right')\n",
    "plt.show()"
   ]
  },
  {
   "cell_type": "code",
   "execution_count": 243,
   "metadata": {},
   "outputs": [
    {
     "name": "stdout",
     "output_type": "stream",
     "text": [
      "MannwhitneyuResult(statistic=15099.0, pvalue=8.624453234733935e-53)\n"
     ]
    }
   ],
   "source": [
    "##fix 3\n",
    "weekend = filtered.loc[(filtered['date'].dt.dayofweek==5)|(filtered['date'].dt.dayofweek==6)]\n",
    "weekday = filtered.loc[(filtered['date'].dt.dayofweek!=5)& (filtered['date'].dt.dayofweek!=6)]\n",
    "u_test = stats.mannwhitneyu(weekend[\"comment_count\"],weekday[\"comment_count\"],alternative = 'two-sided')\n",
    "print(u_test)"
   ]
  },
  {
   "cell_type": "code",
   "execution_count": null,
   "metadata": {},
   "outputs": [],
   "source": []
  }
 ],
 "metadata": {
  "kernelspec": {
   "display_name": "Python 3",
   "language": "python",
   "name": "python3"
  },
  "language_info": {
   "codemirror_mode": {
    "name": "ipython",
    "version": 3
   },
   "file_extension": ".py",
   "mimetype": "text/x-python",
   "name": "python",
   "nbconvert_exporter": "python",
   "pygments_lexer": "ipython3",
   "version": "3.7.5"
  }
 },
 "nbformat": 4,
 "nbformat_minor": 4
}
