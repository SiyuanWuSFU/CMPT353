{
 "cells": [
  {
   "cell_type": "code",
   "execution_count": 149,
   "metadata": {},
   "outputs": [],
   "source": [
    "import sys\n",
    "import pandas as pd\n",
    "from datetime import date\n",
    "from scipy import stats\n",
    "import matplotlib.pyplot as plt\n",
    "import numpy as np"
   ]
  },
  {
   "cell_type": "code",
   "execution_count": 150,
   "metadata": {},
   "outputs": [],
   "source": [
    "counts = pd.read_json(\"reddit-counts.json.gz\", lines=True)"
   ]
  },
  {
   "cell_type": "code",
   "execution_count": 151,
   "metadata": {},
   "outputs": [],
   "source": [
    "counts = counts.loc[counts['subreddit'] == \"canada\"]\n",
    "filtered = counts.loc[(counts['date'].dt.year==2013) | (counts['date'].dt.year==2012)]"
   ]
  },
  {
   "cell_type": "code",
   "execution_count": 152,
   "metadata": {},
   "outputs": [],
   "source": [
    "weekend = filtered.loc[(filtered['date'].dt.dayofweek==5)|(filtered['date'].dt.dayofweek==6)]\n",
    "weekday = filtered.loc[(filtered['date'].dt.dayofweek!=5)& (filtered['date'].dt.dayofweek!=6)]\n"
   ]
  },
  {
   "cell_type": "code",
   "execution_count": 153,
   "metadata": {},
   "outputs": [
    {
     "name": "stdout",
     "output_type": "stream",
     "text": [
      "-19.068164546804166\n",
      "6.138975517118774e-60\n"
     ]
    }
   ],
   "source": [
    "ttest = stats.ttest_ind(weekend[\"comment_count\"],weekday[\"comment_count\"],equal_var = False)\n",
    "print(ttest.statistic)\n",
    "print(ttest.pvalue)"
   ]
  },
  {
   "cell_type": "code",
   "execution_count": 154,
   "metadata": {},
   "outputs": [
    {
     "name": "stdout",
     "output_type": "stream",
     "text": [
      "normality  0.0015209196859635404\n",
      "normality  1.0091137251707994e-07\n",
      "equal variance p-value:  0.04378740989202803\n",
      "Not normally distrubuted, not equal variance\n",
      "It is very unlikely that there are same number of comments on weekdays and weekends\n"
     ]
    }
   ],
   "source": [
    "weekend_n = stats.normaltest(weekend[\"comment_count\"])\n",
    "print(\"normality \",weekend_n.pvalue)\n",
    "weekday_n = stats.normaltest(weekday[\"comment_count\"])\n",
    "print(\"normality \",weekday_n.pvalue)\n",
    "stat,p= stats.levene(weekend[\"comment_count\"],weekday[\"comment_count\"])\n",
    "print(\"equal variance p-value: \",p)\n",
    "\n",
    "print(\"Not normally distrubuted, not equal variance\")\n",
    "print(\"It is very unlikely that there are same number of comments on weekdays and weekends\")"
   ]
  },
  {
   "cell_type": "code",
   "execution_count": 156,
   "metadata": {
    "scrolled": true
   },
   "outputs": [
    {
     "data": {
      "image/png": "[encoded data removed]",
      "text/plain": [
       "<Figure size 432x288 with 1 Axes>"
      ]
     },
     "metadata": {
      "needs_background": "light"
     },
     "output_type": "display_data"
    }
   ],
   "source": [
    "plt.figure()\n",
    "plt.hist((weekend[\"comment_count\"],weekday[\"comment_count\"]),label = ['weekend','weekday'])\n",
    "plt.legend(loc='upper right')\n",
    "plt.show()"
   ]
  },
  {
   "cell_type": "code",
   "execution_count": 157,
   "metadata": {},
   "outputs": [
    {
     "name": "stdout",
     "output_type": "stream",
     "text": [
      "normality  0.10760562894666933\n",
      "normality  0.03687221613365365\n",
      "equal variance p-value:  0.5560544297516696\n",
      "First one normally distrubuted,equal variance\n"
     ]
    }
   ],
   "source": [
    "weekend_trans = np.sqrt(weekend[\"comment_count\"])\n",
    "weekday_trans = np.sqrt(weekday[\"comment_count\"])\n",
    "weekend_n = stats.normaltest(weekend_trans)\n",
    "print(\"normality \",weekend_n.pvalue)\n",
    "weekday_n = stats.normaltest(weekday_trans)\n",
    "print(\"normality \",weekday_n.pvalue)\n",
    "stat,p= stats.levene(weekend_trans,weekday_trans)\n",
    "print(\"equal variance p-value: \",p)\n",
    "print(\"First one normally distrubuted,equal variance\")"
   ]
  },
  {
   "cell_type": "code",
   "execution_count": 174,
   "metadata": {},
   "outputs": [
    {
     "name": "stdout",
     "output_type": "stream",
     "text": [
      "            comment_count\n",
      "year month               \n",
      "2008 10               4.0\n",
      "     11               2.0\n",
      "     13               2.5\n",
      "     14               2.5\n",
      "     15               2.5\n",
      "...                   ...\n",
      "2015 5             2185.0\n",
      "     6             2180.5\n",
      "     7             2103.0\n",
      "     8             2417.5\n",
      "     9             1798.5\n",
      "\n",
      "[378 rows x 1 columns]\n",
      "            comment_count\n",
      "year month               \n",
      "2008 10          2.000000\n",
      "     11          3.250000\n",
      "     12          1.666667\n",
      "     13          5.200000\n",
      "     14          7.000000\n",
      "...                   ...\n",
      "2015 5        3186.400000\n",
      "     6        2976.400000\n",
      "     7        2883.800000\n",
      "     8        2883.400000\n",
      "     9        3108.800000\n",
      "\n",
      "[382 rows x 1 columns]\n",
      "            comment_count\n",
      "year month               \n",
      "2008 10          2.666667\n",
      "     11          3.000000\n",
      "     12          1.666667\n",
      "     13          4.428571\n",
      "     14          5.200000\n",
      "...                   ...\n",
      "2015 5        2900.285714\n",
      "     6        2749.000000\n",
      "     7        2660.714286\n",
      "     8        2750.285714\n",
      "     9        2734.428571\n",
      "\n",
      "[382 rows x 1 columns]\n"
     ]
    },
    {
     "name": "stderr",
     "output_type": "stream",
     "text": [
      "c:\\users\\leonwu\\appdata\\local\\programs\\python\\python37\\lib\\site-packages\\ipykernel_launcher.py:9: SettingWithCopyWarning: \n",
      "A value is trying to be set on a copy of a slice from a DataFrame.\n",
      "Try using .loc[row_indexer,col_indexer] = value instead\n",
      "\n",
      "See the caveats in the documentation: https://pandas.pydata.org/pandas-docs/stable/user_guide/indexing.html#returning-a-view-versus-a-copy\n",
      "  if __name__ == '__main__':\n",
      "c:\\users\\leonwu\\appdata\\local\\programs\\python\\python37\\lib\\site-packages\\ipykernel_launcher.py:10: SettingWithCopyWarning: \n",
      "A value is trying to be set on a copy of a slice from a DataFrame.\n",
      "Try using .loc[row_indexer,col_indexer] = value instead\n",
      "\n",
      "See the caveats in the documentation: https://pandas.pydata.org/pandas-docs/stable/user_guide/indexing.html#returning-a-view-versus-a-copy\n",
      "  # Remove the CWD from sys.path while we load stuff.\n",
      "c:\\users\\leonwu\\appdata\\local\\programs\\python\\python37\\lib\\site-packages\\ipykernel_launcher.py:12: SettingWithCopyWarning: \n",
      "A value is trying to be set on a copy of a slice from a DataFrame.\n",
      "Try using .loc[row_indexer,col_indexer] = value instead\n",
      "\n",
      "See the caveats in the documentation: https://pandas.pydata.org/pandas-docs/stable/user_guide/indexing.html#returning-a-view-versus-a-copy\n",
      "  if sys.path[0] == '':\n",
      "c:\\users\\leonwu\\appdata\\local\\programs\\python\\python37\\lib\\site-packages\\ipykernel_launcher.py:13: SettingWithCopyWarning: \n",
      "A value is trying to be set on a copy of a slice from a DataFrame.\n",
      "Try using .loc[row_indexer,col_indexer] = value instead\n",
      "\n",
      "See the caveats in the documentation: https://pandas.pydata.org/pandas-docs/stable/user_guide/indexing.html#returning-a-view-versus-a-copy\n",
      "  del sys.path[0]\n"
     ]
    }
   ],
   "source": [
    "## adopted from https://stackoverflow.com/questions/48058304/how-to-apply-series-in-isocalendar-function-in-pandas-python\n",
    "all_weekend = counts.loc[(counts['date'].dt.dayofweek==5)|(counts['date'].dt.dayofweek==6)]\n",
    "all_weekday = counts.loc[(counts['date'].dt.dayofweek!=5)& (counts['date'].dt.dayofweek!=6)]\n",
    "\n",
    "#counts[\"year\"] = counts[\"date\"].apply(lambda x: str(x.isocalendar()[0]) )\n",
    "#counts[\"month\"] = counts[\"date\"].apply(lambda x: str(x.isocalendar()[1]) )\n",
    "\n",
    "\n",
    "all_weekend[\"year\"] = all_weekend[\"date\"].apply(lambda x: str(x.isocalendar()[0]) )\n",
    "all_weekend[\"month\"] = all_weekend[\"date\"].apply(lambda x: str(x.isocalendar()[1]) )\n",
    "\n",
    "all_weekday[\"year\"] = all_weekday[\"date\"].apply(lambda x: str(x.isocalendar()[0]) )\n",
    "all_weekday[\"month\"] = all_weekday[\"date\"].apply(lambda x: str(x.isocalendar()[1]) )\n",
    "\n",
    "aggregated_weekend = all_weekend.groupby(['year', 'month']).mean()\n",
    "aggregated_weekday = all_weekday.groupby(['year', 'month']).mean()\n",
    "aggregated = counts.groupby(['year', 'month']).mean()\n",
    "print(aggregated_weekend)\n",
    "print(aggregated_weekday)\n",
    "#print(aggregated)"
   ]
  },
  {
   "cell_type": "code",
   "execution_count": 169,
   "metadata": {},
   "outputs": [
    {
     "name": "stdout",
     "output_type": "stream",
     "text": [
      "2.8967809235592926e-11\n"
     ]
    }
   ],
   "source": [
    "ttest = stats.ttest_ind(aggregated_weekend[\"comment_count\"],aggregated_weekday[\"comment_count\"])\n",
    "\n",
    "print(ttest.pvalue)"
   ]
  },
  {
   "cell_type": "code",
   "execution_count": 170,
   "metadata": {},
   "outputs": [
    {
     "name": "stdout",
     "output_type": "stream",
     "text": [
      "normality  9.93077478285982e-06\n",
      "normality  0.06038642133189965\n",
      "equal variance p-value:  9.72960473661348e-11\n"
     ]
    }
   ],
   "source": [
    "a_weekend_n = stats.normaltest(aggregated_weekend[\"comment_count\"])\n",
    "print(\"normality \",a_weekend_n.pvalue)\n",
    "a_weekday_n = stats.normaltest(aggregated_weekday[\"comment_count\"])\n",
    "print(\"normality \",a_weekday_n.pvalue)\n",
    "stat,p= stats.levene(aggregated_weekend[\"comment_count\"],aggregated_weekday[\"comment_count\"])\n",
    "print(\"equal variance p-value: \",p)\n"
   ]
  },
  {
   "cell_type": "code",
   "execution_count": 173,
   "metadata": {},
   "outputs": [
    {
     "data": {
      "image/png": "[encoded data removed]",
      "text/plain": [
       "<Figure size 432x288 with 1 Axes>"
      ]
     },
     "metadata": {
      "needs_background": "light"
     },
     "output_type": "display_data"
    }
   ],
   "source": [
    "plt.figure()\n",
    "plt.hist((aggregated_weekend[\"comment_count\"],aggregated_weekday[\"comment_count\"]),label = ['weekend','weekday'])\n",
    "plt.legend(loc='upper right')\n",
    "plt.show()"
   ]
  },
  {
   "cell_type": "code",
   "execution_count": null,
   "metadata": {},
   "outputs": [],
   "source": []
  }
 ],
 "metadata": {
  "kernelspec": {
   "display_name": "Python 3",
   "language": "python",
   "name": "python3"
  },
  "language_info": {
   "codemirror_mode": {
    "name": "ipython",
    "version": 3
   },
   "file_extension": ".py",
   "mimetype": "text/x-python",
   "name": "python",
   "nbconvert_exporter": "python",
   "pygments_lexer": "ipython3",
   "version": "3.7.5"
  }
 },
 "nbformat": 4,
 "nbformat_minor": 4
}
