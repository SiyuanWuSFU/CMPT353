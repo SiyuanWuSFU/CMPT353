{
 "cells": [
  {
   "cell_type": "code",
   "execution_count": 42,
   "metadata": {},
   "outputs": [],
   "source": [
    "import sys\n",
    "import pandas as pd\n",
    "from datetime import date\n",
    "from scipy import stats\n",
    "import matplotlib.pyplot as plt\n",
    "import numpy as np"
   ]
  },
  {
   "cell_type": "code",
   "execution_count": 43,
   "metadata": {},
   "outputs": [],
   "source": [
    "counts = pd.read_json(\"reddit-counts.json.gz\", lines=True)"
   ]
  },
  {
   "cell_type": "code",
   "execution_count": 44,
   "metadata": {},
   "outputs": [],
   "source": [
    "counts_canada = counts.loc[counts['subreddit'] == \"canada\"]\n",
    "filtered = counts_canada.loc[(counts_canada['date'].dt.year==2013) | (counts_canada['date'].dt.year==2012)]\n"
   ]
  },
  {
   "cell_type": "code",
   "execution_count": 45,
   "metadata": {},
   "outputs": [
    {
     "name": "stdout",
     "output_type": "stream",
     "text": [
      "\n"
     ]
    }
   ],
   "source": [
    "weekend = filtered.loc[(filtered['date'].dt.dayofweek==5)|(filtered['date'].dt.dayofweek==6)]\n",
    "weekday = filtered.loc[(filtered['date'].dt.dayofweek!=5)& (filtered['date'].dt.dayofweek!=6)]\n",
    "print()"
   ]
  },
  {
   "cell_type": "code",
   "execution_count": 46,
   "metadata": {},
   "outputs": [
    {
     "name": "stdout",
     "output_type": "stream",
     "text": [
      "-19.068164546804166\n",
      "6.138975517118774e-60\n"
     ]
    }
   ],
   "source": [
    "ttest = stats.ttest_ind(weekend[\"comment_count\"],weekday[\"comment_count\"],equal_var = False)\n",
    "print(ttest.statistic)\n",
    "print(ttest.pvalue)"
   ]
  },
  {
   "cell_type": "code",
   "execution_count": 47,
   "metadata": {},
   "outputs": [
    {
     "name": "stdout",
     "output_type": "stream",
     "text": [
      "normality  0.0015209196859635404\n",
      "normality  1.0091137251707994e-07\n",
      "equal variance p-value:  0.04378740989202803\n",
      "Not normally distrubuted, not equal variance\n",
      "It is very unlikely that there are same number of comments on weekdays and weekends\n"
     ]
    }
   ],
   "source": [
    "weekend_n = stats.normaltest(weekend[\"comment_count\"])\n",
    "print(\"normality \",weekend_n.pvalue)\n",
    "weekday_n = stats.normaltest(weekday[\"comment_count\"])\n",
    "print(\"normality \",weekday_n.pvalue)\n",
    "stat,p= stats.levene(weekend[\"comment_count\"],weekday[\"comment_count\"])\n",
    "print(\"equal variance p-value: \",p)\n",
    "\n",
    "print(\"Not normally distrubuted, not equal variance\")\n",
    "print(\"It is very unlikely that there are same number of comments on weekdays and weekends\")"
   ]
  },
  {
   "cell_type": "code",
   "execution_count": 48,
   "metadata": {
    "scrolled": true
   },
   "outputs": [
    {
     "name": "stderr",
     "output_type": "stream",
     "text": [
      "c:\\users\\leonwu\\appdata\\local\\programs\\python\\python37\\lib\\site-packages\\numpy\\core\\_asarray.py:83: VisibleDeprecationWarning: Creating an ndarray from ragged nested sequences (which is a list-or-tuple of lists-or-tuples-or ndarrays with different lengths or shapes) is deprecated. If you meant to do this, you must specify 'dtype=object' when creating the ndarray\n",
      "  return array(a, dtype, copy=False, order=order)\n"
     ]
    },
    {
     "data": {
      "image/png": "[encoded data removed]",
      "text/plain": [
       "<Figure size 432x288 with 1 Axes>"
      ]
     },
     "metadata": {
      "needs_background": "light"
     },
     "output_type": "display_data"
    }
   ],
   "source": [
    "plt.figure()\n",
    "plt.hist((weekend[\"comment_count\"],weekday[\"comment_count\"]),label = ['weekend','weekday'])\n",
    "plt.legend(loc='upper right')\n",
    "plt.show()"
   ]
  },
  {
   "cell_type": "code",
   "execution_count": 49,
   "metadata": {},
   "outputs": [
    {
     "name": "stdout",
     "output_type": "stream",
     "text": [
      "normality  0.10760562894666933\n",
      "normality  0.03687221613365365\n",
      "equal variance p-value:  0.5560544297516696\n",
      "First one normally distrubuted,equal variance\n"
     ]
    }
   ],
   "source": [
    "weekend_trans = np.sqrt(weekend[\"comment_count\"])\n",
    "weekday_trans = np.sqrt(weekday[\"comment_count\"])\n",
    "weekend_n = stats.normaltest(weekend_trans)\n",
    "print(\"normality \",weekend_n.pvalue)\n",
    "weekday_n = stats.normaltest(weekday_trans)\n",
    "print(\"normality \",weekday_n.pvalue)\n",
    "stat,p= stats.levene(weekend_trans,weekday_trans)\n",
    "print(\"equal variance p-value: \",p)\n",
    "print(\"First one normally distrubuted,equal variance\")"
   ]
  },
  {
   "cell_type": "code",
   "execution_count": 50,
   "metadata": {},
   "outputs": [
    {
     "name": "stdout",
     "output_type": "stream",
     "text": [
      "            comment_count\n",
      "year month               \n",
      "2011 52             995.0\n",
      "2012 1             1163.0\n",
      "     10            1353.0\n",
      "     11            1282.0\n",
      "     12            1759.0\n",
      "...                   ...\n",
      "2013 52            1117.5\n",
      "     6             1718.5\n",
      "     7              786.5\n",
      "     8             1863.5\n",
      "     9             1284.0\n",
      "\n",
      "[105 rows x 1 columns]\n",
      "            comment_count\n",
      "year month               \n",
      "2012 1             1561.6\n",
      "     10            1956.0\n",
      "     11            2001.0\n",
      "     12            2225.4\n",
      "     13            2061.8\n",
      "...                   ...\n",
      "2013 6             1593.2\n",
      "     7             1653.0\n",
      "     8             1729.0\n",
      "     9             2024.6\n",
      "2014 1             1437.0\n",
      "\n",
      "[105 rows x 1 columns]\n"
     ]
    },
    {
     "name": "stderr",
     "output_type": "stream",
     "text": [
      "c:\\users\\leonwu\\appdata\\local\\programs\\python\\python37\\lib\\site-packages\\ipykernel_launcher.py:6: SettingWithCopyWarning: \n",
      "A value is trying to be set on a copy of a slice from a DataFrame.\n",
      "Try using .loc[row_indexer,col_indexer] = value instead\n",
      "\n",
      "See the caveats in the documentation: https://pandas.pydata.org/pandas-docs/stable/user_guide/indexing.html#returning-a-view-versus-a-copy\n",
      "  \n",
      "c:\\users\\leonwu\\appdata\\local\\programs\\python\\python37\\lib\\site-packages\\ipykernel_launcher.py:7: SettingWithCopyWarning: \n",
      "A value is trying to be set on a copy of a slice from a DataFrame.\n",
      "Try using .loc[row_indexer,col_indexer] = value instead\n",
      "\n",
      "See the caveats in the documentation: https://pandas.pydata.org/pandas-docs/stable/user_guide/indexing.html#returning-a-view-versus-a-copy\n",
      "  import sys\n",
      "c:\\users\\leonwu\\appdata\\local\\programs\\python\\python37\\lib\\site-packages\\ipykernel_launcher.py:9: SettingWithCopyWarning: \n",
      "A value is trying to be set on a copy of a slice from a DataFrame.\n",
      "Try using .loc[row_indexer,col_indexer] = value instead\n",
      "\n",
      "See the caveats in the documentation: https://pandas.pydata.org/pandas-docs/stable/user_guide/indexing.html#returning-a-view-versus-a-copy\n",
      "  if __name__ == '__main__':\n",
      "c:\\users\\leonwu\\appdata\\local\\programs\\python\\python37\\lib\\site-packages\\ipykernel_launcher.py:10: SettingWithCopyWarning: \n",
      "A value is trying to be set on a copy of a slice from a DataFrame.\n",
      "Try using .loc[row_indexer,col_indexer] = value instead\n",
      "\n",
      "See the caveats in the documentation: https://pandas.pydata.org/pandas-docs/stable/user_guide/indexing.html#returning-a-view-versus-a-copy\n",
      "  # Remove the CWD from sys.path while we load stuff.\n"
     ]
    }
   ],
   "source": [
    "## adopted from https://stackoverflow.com/questions/48058304/how-to-apply-series-in-isocalendar-function-in-pandas-python\n",
    "## Fix 2 \n",
    "weekend_CLT = filtered.loc[(filtered['date'].dt.dayofweek==5)|(filtered['date'].dt.dayofweek==6)]\n",
    "weekday_CLT = filtered.loc[(filtered['date'].dt.dayofweek!=5)& (filtered['date'].dt.dayofweek!=6)]\n",
    "\n",
    "weekend_CLT[\"year\"] = weekend_CLT[\"date\"].apply(lambda x: str(x.isocalendar()[0]) )\n",
    "weekend_CLT[\"month\"] = weekend_CLT[\"date\"].apply(lambda x: str(x.isocalendar()[1]) )\n",
    "\n",
    "weekday_CLT[\"year\"] = weekday_CLT[\"date\"].apply(lambda x: str(x.isocalendar()[0]) )\n",
    "weekday_CLT[\"month\"] = weekday_CLT[\"date\"].apply(lambda x: str(x.isocalendar()[1]) )\n",
    "\n",
    "aggregated_weekend = weekend_CLT.groupby(['year', 'month']).mean()\n",
    "aggregated_weekday = weekday_CLT.groupby(['year', 'month']).mean()\n",
    "#aggregated = counts.groupby(['year', 'month']).mean()\n",
    "print(aggregated_weekend)\n",
    "print(aggregated_weekday)\n",
    "#print(aggregated)"
   ]
  },
  {
   "cell_type": "code",
   "execution_count": 51,
   "metadata": {},
   "outputs": [
    {
     "name": "stdout",
     "output_type": "stream",
     "text": [
      "1.3353656052303141e-34\n"
     ]
    }
   ],
   "source": [
    "ttest = stats.ttest_ind(aggregated_weekend[\"comment_count\"],aggregated_weekday[\"comment_count\"])\n",
    "print(ttest.pvalue)"
   ]
  },
  {
   "cell_type": "code",
   "execution_count": 52,
   "metadata": {},
   "outputs": [
    {
     "name": "stdout",
     "output_type": "stream",
     "text": [
      "normality  0.15294924717078573\n",
      "normality  0.3082637390825463\n",
      "equal variance p-value:  0.20383788083573426\n"
     ]
    }
   ],
   "source": [
    "a_weekend_n = stats.normaltest(aggregated_weekend[\"comment_count\"])\n",
    "print(\"normality \",a_weekend_n.pvalue)\n",
    "a_weekday_n = stats.normaltest(aggregated_weekday[\"comment_count\"])\n",
    "print(\"normality \",a_weekday_n.pvalue)\n",
    "stat,p= stats.levene(aggregated_weekend[\"comment_count\"],aggregated_weekday[\"comment_count\"])\n",
    "print(\"equal variance p-value: \",p)\n"
   ]
  },
  {
   "cell_type": "code",
   "execution_count": 53,
   "metadata": {},
   "outputs": [
    {
     "data": {
      "image/png": "[encoded data removed]",
      "text/plain": [
       "<Figure size 432x288 with 1 Axes>"
      ]
     },
     "metadata": {
      "needs_background": "light"
     },
     "output_type": "display_data"
    }
   ],
   "source": [
    "plt.figure()\n",
    "plt.hist((aggregated_weekend[\"comment_count\"],aggregated_weekday[\"comment_count\"]),label = ['weekend','weekday'])\n",
    "plt.legend(loc='upper right')\n",
    "plt.show()"
   ]
  },
  {
   "cell_type": "code",
   "execution_count": 54,
   "metadata": {},
   "outputs": [
    {
     "name": "stdout",
     "output_type": "stream",
     "text": [
      "MannwhitneyuResult(statistic=15099.0, pvalue=8.624453234733935e-53)\n"
     ]
    }
   ],
   "source": [
    "##fix 3\n",
    "weekend_u = filtered.loc[(filtered['date'].dt.dayofweek==5)|(filtered['date'].dt.dayofweek==6)]\n",
    "weekday_u = filtered.loc[(filtered['date'].dt.dayofweek!=5)& (filtered['date'].dt.dayofweek!=6)]\n",
    "u_test = stats.mannwhitneyu(weekend_u[\"comment_count\"],weekday_u[\"comment_count\"],alternative = 'two-sided')\n",
    "print(u_test)"
   ]
  },
  {
   "cell_type": "code",
   "execution_count": null,
   "metadata": {},
   "outputs": [],
   "source": []
  }
 ],
 "metadata": {
  "kernelspec": {
   "display_name": "Python 3",
   "language": "python",
   "name": "python3"
  },
  "language_info": {
   "codemirror_mode": {
    "name": "ipython",
    "version": 3
   },
   "file_extension": ".py",
   "mimetype": "text/x-python",
   "name": "python",
   "nbconvert_exporter": "python",
   "pygments_lexer": "ipython3",
   "version": "3.7.5"
  }
 },
 "nbformat": 4,
 "nbformat_minor": 4
}
